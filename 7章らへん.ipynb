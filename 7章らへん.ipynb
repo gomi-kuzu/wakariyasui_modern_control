{
 "cells": [
  {
   "cell_type": "code",
   "execution_count": 37,
   "metadata": {},
   "outputs": [],
   "source": [
    "import numpy as np\n",
    "from control import matlab\n",
    "from control import canonical_form\n",
    "import sympy as sp"
   ]
  },
  {
   "cell_type": "markdown",
   "metadata": {},
   "source": [
    "# 演習問題"
   ]
  },
  {
   "cell_type": "code",
   "execution_count": 53,
   "metadata": {},
   "outputs": [],
   "source": [
    "A = np.array([[4, 6],[-3, -5]])\n",
    "B = np.array([[6],[-3]])\n",
    "C = np.array([[-1, 0]])\n",
    "D = np.array([[0]])\n",
    "\n",
    "Pss = matlab.ss(A, B, C, D)\n",
    "Ptf = matlab.ss2tf(Pss)"
   ]
  },
  {
   "cell_type": "markdown",
   "metadata": {},
   "source": [
    "## (1)伝達関数で評価"
   ]
  },
  {
   "cell_type": "code",
   "execution_count": 4,
   "metadata": {},
   "outputs": [
    {
     "data": {
      "text/latex": [
       "$$\\frac{-6 s - 12}{s^2 + s - 2}$$"
      ],
      "text/plain": [
       "TransferFunction(array([ -6., -12.]), array([ 1.,  1., -2.]))"
      ]
     },
     "execution_count": 4,
     "metadata": {},
     "output_type": "execute_result"
    }
   ],
   "source": [
    "Ptf"
   ]
  },
  {
   "cell_type": "code",
   "execution_count": 20,
   "metadata": {},
   "outputs": [
    {
     "data": {
      "image/png": "[encoded data removed]",
      "text/latex": [
       "$$- \\frac{6}{s - 1}$$"
      ],
      "text/plain": [
       " -6  \n",
       "─────\n",
       "s - 1"
      ]
     },
     "execution_count": 20,
     "metadata": {},
     "output_type": "execute_result"
    }
   ],
   "source": [
    "# 部分分数展開する\n",
    "\n",
    "sp.init_printing()\n",
    "s = sp.Symbol(\"s\")\n",
    "P = (-6*s-12)/(s**2+s-2)\n",
    "# P\n",
    "P = sp.apart(P, s)\n",
    "P"
   ]
  },
  {
   "cell_type": "markdown",
   "metadata": {},
   "source": [
    "- 分母の次数が落ちているので、極零相殺が起きている\n",
    "    - **不可制御または不可観測あるいはその両方**"
   ]
  },
  {
   "cell_type": "markdown",
   "metadata": {},
   "source": [
    "## (2)可**制御**性判別\n",
    "- 可制御性行列のランクが最大なら可制御"
   ]
  },
  {
   "cell_type": "code",
   "execution_count": 21,
   "metadata": {},
   "outputs": [],
   "source": [
    "Uc = matlab.ctrb(A, B)\n",
    "Rc = np.linalg.matrix_rank(Uc)"
   ]
  },
  {
   "cell_type": "code",
   "execution_count": 31,
   "metadata": {},
   "outputs": [
    {
     "name": "stdout",
     "output_type": "stream",
     "text": [
      "ランク: 1 サイズ: 2\n",
      "不可制御やで\n"
     ]
    }
   ],
   "source": [
    "print(\"ランク:\",Rc,\"サイズ:\",min(Uc.shape))\n",
    "print(\"可制御やで\") if Rc == min(Uc.shape) else print(\"不可制御やで\")"
   ]
  },
  {
   "cell_type": "markdown",
   "metadata": {},
   "source": [
    "## (3)可**観測**性判別\n",
    "- 可観測性行列のランクが最大なら可制御"
   ]
  },
  {
   "cell_type": "code",
   "execution_count": 33,
   "metadata": {},
   "outputs": [],
   "source": [
    "Uo = matlab.obsv(A, C)\n",
    "Ro = np.linalg.matrix_rank(Uo)"
   ]
  },
  {
   "cell_type": "code",
   "execution_count": 35,
   "metadata": {},
   "outputs": [
    {
     "name": "stdout",
     "output_type": "stream",
     "text": [
      "ランク: 2 サイズ: 2\n",
      "可観測やで\n"
     ]
    }
   ],
   "source": [
    "print(\"ランク:\",Ro,\"サイズ:\",min(Uo.shape))\n",
    "print(\"可観測やで\") if Ro == min(Uo.shape) else print(\"不可観測やで\")"
   ]
  },
  {
   "cell_type": "markdown",
   "metadata": {},
   "source": [
    "## (4)対角正準系に変換して吟味"
   ]
  },
  {
   "cell_type": "code",
   "execution_count": 55,
   "metadata": {},
   "outputs": [
    {
     "name": "stdout",
     "output_type": "stream",
     "text": [
      "対角化可能\n"
     ]
    }
   ],
   "source": [
    "# 対角化可能化判定しておく\n",
    "symA = sp.eye(2)*A\n",
    "try:\n",
    "    if symA.diagonalize() :print(\"対角化可能\") \n",
    "except:\n",
    "    print(\"対角化不可能だ〜〜〜〜〜\")"
   ]
  },
  {
   "cell_type": "code",
   "execution_count": 39,
   "metadata": {},
   "outputs": [
    {
     "name": "stdout",
     "output_type": "stream",
     "text": [
      "A = [[ 1.00000000e+00  6.33024397e-17]\n",
      "     [ 4.36247471e-17 -2.00000000e+00]]\n",
      "\n",
      "B = [[6.70820393]\n",
      "     [0.        ]]\n",
      "\n",
      "C = [[-0.89442719  0.70710678]]\n",
      "\n",
      "D = [[0.]]\n",
      "\n"
     ]
    }
   ],
   "source": [
    "Pm, T = canonical_form(Pss, form = 'modal')a\n",
    "print(Pm)"
   ]
  },
  {
   "cell_type": "markdown",
   "metadata": {},
   "source": [
    "- 対角正準系の形のb,cから、不可制御、可観測とわかる"
   ]
  }
 ],
 "metadata": {
  "kernelspec": {
   "display_name": "Python 3",
   "language": "python",
   "name": "python3"
  },
  "language_info": {
   "codemirror_mode": {
    "name": "ipython",
    "version": 3
   },
   "file_extension": ".py",
   "mimetype": "text/x-python",
   "name": "python",
   "nbconvert_exporter": "python",
   "pygments_lexer": "ipython3",
   "version": "3.7.0"
  }
 },
 "nbformat": 4,
 "nbformat_minor": 4
}
