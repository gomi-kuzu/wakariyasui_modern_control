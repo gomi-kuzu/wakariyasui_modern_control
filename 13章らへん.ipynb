{
 "cells": [
  {
   "cell_type": "code",
   "execution_count": 2,
   "metadata": {},
   "outputs": [],
   "source": [
    "import numpy as np\n",
    "from control import matlab\n",
    "import pandas as pd\n",
    "import matplotlib.pyplot as plt\n",
    "import japanize_matplotlib"
   ]
  },
  {
   "cell_type": "markdown",
   "metadata": {},
   "source": [
    "## 13.2　制御対象の解析"
   ]
  },
  {
   "cell_type": "code",
   "execution_count": 3,
   "metadata": {},
   "outputs": [],
   "source": [
    "# 問題設定\n",
    "A = np.array(pd.read_csv(\"./data/cartpole_model/sys_A.csv\",header=None))\n",
    "B = np.array(pd.read_csv(\"./data/cartpole_model/sys_B.csv\",header=None))\n",
    "D =0"
   ]
  },
  {
   "cell_type": "markdown",
   "metadata": {},
   "source": [
    "- なにはともあれ可制御性判別"
   ]
  },
  {
   "cell_type": "code",
   "execution_count": 4,
   "metadata": {},
   "outputs": [],
   "source": [
    "Uc = matlab.ctrb(A, B)\n",
    "Rc = np.linalg.matrix_rank(Uc)"
   ]
  },
  {
   "cell_type": "code",
   "execution_count": 6,
   "metadata": {},
   "outputs": [
    {
     "name": "stdout",
     "output_type": "stream",
     "text": [
      "ランク: 4 サイズ: 4\n"
     ]
    }
   ],
   "source": [
    "print(\"ランク:\",Rc,\"サイズ:\",min(Uc.shape))"
   ]
  },
  {
   "cell_type": "markdown",
   "metadata": {},
   "source": [
    "- 次は安定性を見よう"
   ]
  },
  {
   "cell_type": "code",
   "execution_count": 7,
   "metadata": {},
   "outputs": [
    {
     "data": {
      "text/plain": [
       "array([ 0. ,  0. ,  4.4, -4.4])"
      ]
     },
     "execution_count": 7,
     "metadata": {},
     "output_type": "execute_result"
    }
   ],
   "source": [
    "#元の極を見てみる\n",
    "np.linalg.eig(A)[0]"
   ]
  },
  {
   "cell_type": "code",
   "execution_count": 9,
   "metadata": {},
   "outputs": [],
   "source": [
    "def show_eig(A):\n",
    "    plt.figure()\n",
    "    plt.scatter(np.real(np.linalg.eigvals(A)), np.imag(np.linalg.eigvals(A)))\n",
    "    plt.axhline(0,-120,5,color=\"gray\")\n",
    "    plt.axvline(0,-20,20,color=\"gray\")\n",
    "    plt.show()"
   ]
  },
  {
   "cell_type": "code",
   "execution_count": 10,
   "metadata": {},
   "outputs": [
    {
     "data": {
      "image/png": "[encoded data removed]",
      "text/plain": [
       "<Figure size 432x288 with 1 Axes>"
      ]
     },
     "metadata": {},
     "output_type": "display_data"
    }
   ],
   "source": [
    "show_eig(A)"
   ]
  },
  {
   "cell_type": "markdown",
   "metadata": {},
   "source": [
    "- 実部正の固有値を含むので、このままじゃ不安定！"
   ]
  },
  {
   "cell_type": "markdown",
   "metadata": {},
   "source": [
    "- 次は２つの観測行列の可観測性を比較する"
   ]
  },
  {
   "cell_type": "code",
   "execution_count": 11,
   "metadata": {},
   "outputs": [],
   "source": [
    "C1 = np.array([1, 0, 0, 0])\n",
    "C2 = np.array([0, 1, 0, 0])"
   ]
  },
  {
   "cell_type": "code",
   "execution_count": 12,
   "metadata": {},
   "outputs": [
    {
     "name": "stdout",
     "output_type": "stream",
     "text": [
      "ランク: 4 サイズ: 4\n"
     ]
    }
   ],
   "source": [
    "Uo1 = matlab.obsv(A, C1)\n",
    "Ro1 = np.linalg.matrix_rank(Uo1)\n",
    "print(\"ランク:\",Ro1,\"サイズ:\",min(Uo1.shape))"
   ]
  },
  {
   "cell_type": "code",
   "execution_count": 13,
   "metadata": {},
   "outputs": [
    {
     "name": "stdout",
     "output_type": "stream",
     "text": [
      "ランク: 2 サイズ: 4\n"
     ]
    }
   ],
   "source": [
    "Uo2 = matlab.obsv(A, C2)\n",
    "Ro2 = np.linalg.matrix_rank(Uo2)\n",
    "print(\"ランク:\",Ro2,\"サイズ:\",min(Uo2.shape))"
   ]
  },
  {
   "cell_type": "markdown",
   "metadata": {},
   "source": [
    "- C1だったら可観測だけどC2は不可観測になる"
   ]
  },
  {
   "cell_type": "markdown",
   "metadata": {},
   "source": [
    "- C1を採用して、次はサーボ系が構成可能か調べる"
   ]
  },
  {
   "cell_type": "code",
   "execution_count": 17,
   "metadata": {},
   "outputs": [
    {
     "data": {
      "text/plain": [
       "array([ 4.40276971+0.j        , -4.39730343+0.j        ,\n",
       "        1.06636093+0.j        , -0.5359136 +0.92525428j,\n",
       "       -0.5359136 -0.92525428j])"
      ]
     },
     "execution_count": 17,
     "metadata": {},
     "output_type": "execute_result"
    }
   ],
   "source": [
    "M = np.block([[A, B],[C1, 0]])\n",
    "np.linalg.eigvals(M)"
   ]
  },
  {
   "cell_type": "markdown",
   "metadata": {},
   "source": [
    "- $M(0) = \\left(\n",
    "    \\begin{array}{cc}\n",
    "      A & B \\\\\n",
    "      -C & 0 \n",
    "    \\end{array}\n",
    "  \\right)$\n",
    "  の固有値に0が入ってないのでサーボ系設計可能"
   ]
  },
  {
   "cell_type": "markdown",
   "metadata": {},
   "source": [
    "## 13.3 制御系の設計\n",
    "- まずは状態フィードバックゲイン"
   ]
  },
  {
   "cell_type": "code",
   "execution_count": 19,
   "metadata": {},
   "outputs": [],
   "source": [
    "Q = np.diag([10]*4)\n",
    "R1 = 10\n",
    "R2 = 0.1"
   ]
  },
  {
   "cell_type": "code",
   "execution_count": 22,
   "metadata": {},
   "outputs": [],
   "source": [
    "F1, X1, E1 = matlab.lqr(A, B, Q, R1) #ここでリカッチ方程式を解いてる\n",
    "F2, X2, E2 = matlab.lqr(A, B, Q, R2) #ここでリカッチ方程式を解いてる"
   ]
  },
  {
   "cell_type": "code",
   "execution_count": 23,
   "metadata": {},
   "outputs": [
    {
     "name": "stdout",
     "output_type": "stream",
     "text": [
      "[[ -1.         -24.64260173  -2.09565197  -5.76696571]] [[-10.         -89.01499274 -16.29019651 -23.08194791]]\n"
     ]
    }
   ],
   "source": [
    "print(F1, F2)"
   ]
  },
  {
   "cell_type": "markdown",
   "metadata": {},
   "source": [
    "- 続いてオブザーバーゲイン"
   ]
  },
  {
   "cell_type": "code",
   "execution_count": 34,
   "metadata": {},
   "outputs": [],
   "source": [
    "A_star = A.T\n",
    "B_star = C1.T.reshape(-1,1)"
   ]
  },
  {
   "cell_type": "markdown",
   "metadata": {},
   "source": [
    "- 極配置法で極を移動"
   ]
  },
  {
   "cell_type": "code",
   "execution_count": 38,
   "metadata": {},
   "outputs": [],
   "source": [
    "poles1 = [-0.8+0.5j, -0.8-0.5j, -0.7, -0.5]\n",
    "poles2 = [-13+1j, -13-1j, -12, -10]\n",
    "F_star1 = matlab.place(A_star, B_star, poles1)\n",
    "F_star2 = matlab.place(A_star, B_star, poles2)\n",
    "L_1 = F_star1.T\n",
    "L_2 = F_star2.T"
   ]
  },
  {
   "cell_type": "code",
   "execution_count": 39,
   "metadata": {},
   "outputs": [
    {
     "name": "stdout",
     "output_type": "stream",
     "text": [
      "[[   2.8       ]\n",
      " [ -65.68941176]\n",
      " [  22.52      ]\n",
      " [-513.29258823]] [[    48.        ]\n",
      " [ -9163.85882297]\n",
      " [   881.35999996]\n",
      " [-44074.27011471]]\n"
     ]
    }
   ],
   "source": [
    "print(L_1,L_2)"
   ]
  },
  {
   "cell_type": "code",
   "execution_count": null,
   "metadata": {},
   "outputs": [],
   "source": []
  }
 ],
 "metadata": {
  "kernelspec": {
   "display_name": "Python 3",
   "language": "python",
   "name": "python3"
  },
  "language_info": {
   "codemirror_mode": {
    "name": "ipython",
    "version": 3
   },
   "file_extension": ".py",
   "mimetype": "text/x-python",
   "name": "python",
   "nbconvert_exporter": "python",
   "pygments_lexer": "ipython3",
   "version": "3.6.5"
  }
 },
 "nbformat": 4,
 "nbformat_minor": 4
}
