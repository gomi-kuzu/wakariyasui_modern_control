{
 "cells": [
  {
   "cell_type": "code",
   "execution_count": 1,
   "metadata": {},
   "outputs": [],
   "source": [
    "import numpy as np\n",
    "from control import matlab\n",
    "import pandas as pd\n",
    "import matplotlib.pyplot as plt\n",
    "import japanize_matplotlib"
   ]
  },
  {
   "cell_type": "markdown",
   "metadata": {},
   "source": [
    "## 13.2　制御対象の解析"
   ]
  },
  {
   "cell_type": "code",
   "execution_count": 2,
   "metadata": {},
   "outputs": [],
   "source": [
    "# 問題設定\n",
    "A = np.array(pd.read_csv(\"./data/cartpole_model/sys_A.csv\",header=None))\n",
    "B = np.array(pd.read_csv(\"./data/cartpole_model/sys_B.csv\",header=None))\n",
    "D =0"
   ]
  },
  {
   "cell_type": "markdown",
   "metadata": {},
   "source": [
    "- なにはともあれ可制御性判別"
   ]
  },
  {
   "cell_type": "code",
   "execution_count": 3,
   "metadata": {},
   "outputs": [],
   "source": [
    "Uc = matlab.ctrb(A, B)\n",
    "Rc = np.linalg.matrix_rank(Uc)"
   ]
  },
  {
   "cell_type": "code",
   "execution_count": 4,
   "metadata": {},
   "outputs": [
    {
     "name": "stdout",
     "output_type": "stream",
     "text": [
      "ランク: 4 サイズ: 4\n"
     ]
    }
   ],
   "source": [
    "print(\"ランク:\",Rc,\"サイズ:\",min(Uc.shape))"
   ]
  },
  {
   "cell_type": "markdown",
   "metadata": {},
   "source": [
    "- 次は安定性を見よう"
   ]
  },
  {
   "cell_type": "code",
   "execution_count": 5,
   "metadata": {},
   "outputs": [
    {
     "data": {
      "text/plain": [
       "array([ 0. ,  0. ,  4.4, -4.4])"
      ]
     },
     "execution_count": 5,
     "metadata": {},
     "output_type": "execute_result"
    }
   ],
   "source": [
    "#元の極を見てみる\n",
    "np.linalg.eig(A)[0]"
   ]
  },
  {
   "cell_type": "code",
   "execution_count": 6,
   "metadata": {},
   "outputs": [],
   "source": [
    "def show_eig(A):\n",
    "    plt.figure()\n",
    "    plt.scatter(np.real(np.linalg.eigvals(A)), np.imag(np.linalg.eigvals(A)))\n",
    "    plt.axhline(0,-120,5,color=\"gray\")\n",
    "    plt.axvline(0,-20,20,color=\"gray\")\n",
    "    plt.show()"
   ]
  },
  {
   "cell_type": "code",
   "execution_count": 7,
   "metadata": {},
   "outputs": [
    {
     "data": {
      "image/png": "[encoded data removed]",
      "text/plain": [
       "<Figure size 432x288 with 1 Axes>"
      ]
     },
     "metadata": {},
     "output_type": "display_data"
    }
   ],
   "source": [
    "show_eig(A)"
   ]
  },
  {
   "cell_type": "markdown",
   "metadata": {},
   "source": [
    "- 実部正の固有値を含むので、このままじゃ不安定！"
   ]
  },
  {
   "cell_type": "markdown",
   "metadata": {},
   "source": [
    "- 次は２つの観測行列の可観測性を比較する"
   ]
  },
  {
   "cell_type": "code",
   "execution_count": 8,
   "metadata": {},
   "outputs": [],
   "source": [
    "C1 = np.array([1, 0, 0, 0])\n",
    "C2 = np.array([0, 1, 0, 0])"
   ]
  },
  {
   "cell_type": "code",
   "execution_count": 9,
   "metadata": {},
   "outputs": [
    {
     "name": "stdout",
     "output_type": "stream",
     "text": [
      "ランク: 4 サイズ: 4\n"
     ]
    }
   ],
   "source": [
    "Uo1 = matlab.obsv(A, C1)\n",
    "Ro1 = np.linalg.matrix_rank(Uo1)\n",
    "print(\"ランク:\",Ro1,\"サイズ:\",min(Uo1.shape))"
   ]
  },
  {
   "cell_type": "code",
   "execution_count": 10,
   "metadata": {},
   "outputs": [
    {
     "name": "stdout",
     "output_type": "stream",
     "text": [
      "ランク: 2 サイズ: 4\n"
     ]
    }
   ],
   "source": [
    "Uo2 = matlab.obsv(A, C2)\n",
    "Ro2 = np.linalg.matrix_rank(Uo2)\n",
    "print(\"ランク:\",Ro2,\"サイズ:\",min(Uo2.shape))"
   ]
  },
  {
   "cell_type": "markdown",
   "metadata": {},
   "source": [
    "- C1だったら可観測だけどC2は不可観測になる"
   ]
  },
  {
   "cell_type": "markdown",
   "metadata": {},
   "source": [
    "- C1を採用して、次はサーボ系が構成可能か調べる"
   ]
  },
  {
   "cell_type": "code",
   "execution_count": 11,
   "metadata": {},
   "outputs": [
    {
     "data": {
      "text/plain": [
       "array([ 4.40276971+0.j        , -4.39730343+0.j        ,\n",
       "        1.06636093+0.j        , -0.5359136 +0.92525428j,\n",
       "       -0.5359136 -0.92525428j])"
      ]
     },
     "execution_count": 11,
     "metadata": {},
     "output_type": "execute_result"
    }
   ],
   "source": [
    "M = np.block([[A, B],[C1, 0]])\n",
    "np.linalg.eigvals(M)"
   ]
  },
  {
   "cell_type": "markdown",
   "metadata": {},
   "source": [
    "- $M(0) = \\left(\n",
    "    \\begin{array}{cc}\n",
    "      A & B \\\\\n",
    "      -C & 0 \n",
    "    \\end{array}\n",
    "  \\right)$\n",
    "  の固有値に0が入ってないのでサーボ系設計可能"
   ]
  },
  {
   "cell_type": "markdown",
   "metadata": {},
   "source": [
    "## 13.3 制御系の設計\n",
    "- まずは状態フィードバックゲイン"
   ]
  },
  {
   "cell_type": "code",
   "execution_count": 12,
   "metadata": {},
   "outputs": [],
   "source": [
    "Q = np.diag([10]*4)\n",
    "R1 = 10\n",
    "R2 = 0.1"
   ]
  },
  {
   "cell_type": "code",
   "execution_count": 13,
   "metadata": {},
   "outputs": [],
   "source": [
    "F1, X1, E1 = matlab.lqr(A, B, Q, R1)\n",
    "F2, X2, E2 = matlab.lqr(A, B, Q, R2) "
   ]
  },
  {
   "cell_type": "code",
   "execution_count": 14,
   "metadata": {},
   "outputs": [
    {
     "name": "stdout",
     "output_type": "stream",
     "text": [
      "[[ -1.         -24.64260173  -2.09565197  -5.76696571]] [[-10.         -89.01499274 -16.29019651 -23.08194791]]\n"
     ]
    }
   ],
   "source": [
    "print(F1, F2)"
   ]
  },
  {
   "cell_type": "markdown",
   "metadata": {},
   "source": [
    "- とりま状態が直接観測できる仮定でレギュレータ組んでみる"
   ]
  },
  {
   "cell_type": "code",
   "execution_count": 16,
   "metadata": {},
   "outputs": [],
   "source": [
    "from pendulum import InvertedPendulum\n",
    "from pendulum import video\n",
    "import matplotlib.pyplot as plt\n",
    "import pandas as pd\n",
    "%matplotlib inline"
   ]
  },
  {
   "cell_type": "code",
   "execution_count": 17,
   "metadata": {},
   "outputs": [],
   "source": [
    "# F1の場合\n",
    "\n",
    "state = [1.0, np.pi/12, 0, 0] #初期値\n",
    "angle_history = [state[1]]\n",
    "x_history = [state[0]]\n",
    "my_pen = InvertedPendulum(state[0], state[1], False)\n",
    "u = np.dot(F1, state)[0,0]\n",
    "u_history = [u]\n",
    "sampling_time = my_pen.t #[s]\n",
    "total_sim_time = 15 #[s]\n",
    "\n",
    "count_list = np.linspace(sampling_time, total_sim_time, int(total_sim_time/sampling_time))\n",
    "state = np.array(state).reshape(-1,1)\n",
    "\n",
    "for t in count_list:\n",
    "    u = -np.dot(F1, state)[0,0]\n",
    "    _ = my_pen.do_action(u)\n",
    "    x, x_dot, theta, theta_dot = my_pen.get_state()\n",
    "    x_history.append(x)\n",
    "    angle_history.append(theta)\n",
    "    u_history.append(u)\n",
    "    state = np.array([x, x_dot, theta, theta_dot]).reshape(-1,1)\n",
    "\n",
    "count_list = np.insert(count_list, 0, 0)\n",
    "\n",
    "df = pd.DataFrame()\n",
    "df[\"x\"] = x_history\n",
    "df[\"angle\"] = angle_history\n",
    "df[\"u\"] = u_history\n",
    "df[\"t\"] = count_list"
   ]
  },
  {
   "cell_type": "code",
   "execution_count": 18,
   "metadata": {},
   "outputs": [
    {
     "data": {
      "image/png": "[encoded data removed]",
      "text/plain": [
       "<Figure size 1296x288 with 3 Axes>"
      ]
     },
     "metadata": {},
     "output_type": "display_data"
    }
   ],
   "source": [
    "fig = plt.figure(figsize=(18,4))\n",
    "ax1 = fig.add_subplot(1, 3, 1)\n",
    "ax2 = fig.add_subplot(1, 3, 2)\n",
    "ax3 = fig.add_subplot(1, 3, 3)\n",
    "\n",
    "df.plot(ax = ax1, x = \"t\", y = \"x\")\n",
    "df.plot(ax = ax2, x = \"t\", y = \"angle\")\n",
    "df.plot(ax = ax3, x = \"t\", y = \"u\")\n",
    "plt.show()"
   ]
  },
  {
   "cell_type": "code",
   "execution_count": 19,
   "metadata": {},
   "outputs": [
    {
     "name": "stderr",
     "output_type": "stream",
     "text": [
      "/home/inoma/study/contrl_ws/wakariyasui/pendulum.py:43: RuntimeWarning: overflow encountered in double_scalars\n",
      "  thetaacc = ( ml*sintheta*( Mt*self.g - ml*self.theta_dot**2*costheta ) - self.u*ml*costheta ) / alpha\n",
      "/home/inoma/study/contrl_ws/wakariyasui/pendulum.py:44: RuntimeWarning: overflow encountered in double_scalars\n",
      "  xacc = - ( ml*sintheta*( ml*self.g*costheta - Jt*self.theta_dot**2 ) - self.u*Jt ) / alpha\n",
      "/home/inoma/study/contrl_ws/wakariyasui/pendulum.py:39: RuntimeWarning: invalid value encountered in cos\n",
      "  costheta = np.cos(self.theta)\n",
      "/home/inoma/study/contrl_ws/wakariyasui/pendulum.py:40: RuntimeWarning: invalid value encountered in sin\n",
      "  sintheta = np.sin(self.theta)\n"
     ]
    }
   ],
   "source": [
    "# F2の場合\n",
    "\n",
    "state = [1.0, np.pi/12, 0, 0] #初期値\n",
    "angle_history = [state[1]]\n",
    "x_history = [state[0]]\n",
    "my_pen = InvertedPendulum(state[0], state[1], False)\n",
    "u = np.dot(F1, state)[0,0]\n",
    "u_history = [u]\n",
    "sampling_time = my_pen.t #[s]\n",
    "total_sim_time = 15 #[s]\n",
    "\n",
    "count_list = np.linspace(sampling_time, total_sim_time, int(total_sim_time/sampling_time))\n",
    "state = np.array(state).reshape(-1,1)\n",
    "\n",
    "for t in count_list:\n",
    "    u = -np.dot(F2, state)[0,0]\n",
    "    _ = my_pen.do_action(u)\n",
    "    x, x_dot, theta, theta_dot = my_pen.get_state()\n",
    "    x_history.append(x)\n",
    "    angle_history.append(theta)\n",
    "    u_history.append(u)\n",
    "    state = np.array([x, x_dot, theta, theta_dot]).reshape(-1,1)\n",
    "\n",
    "count_list = np.insert(count_list, 0, 0)\n",
    "\n",
    "df2 = pd.DataFrame()\n",
    "df2[\"x\"] = x_history\n",
    "df2[\"angle\"] = angle_history\n",
    "df2[\"u\"] = u_history\n",
    "df2[\"t\"] = count_list"
   ]
  },
  {
   "cell_type": "code",
   "execution_count": 20,
   "metadata": {},
   "outputs": [
    {
     "data": {
      "image/png": "[encoded data removed]",
      "text/plain": [
       "<Figure size 1296x288 with 3 Axes>"
      ]
     },
     "metadata": {},
     "output_type": "display_data"
    }
   ],
   "source": [
    "fig = plt.figure(figsize=(18,4))\n",
    "ax1 = fig.add_subplot(1, 3, 1)\n",
    "ax2 = fig.add_subplot(1, 3, 2)\n",
    "ax3 = fig.add_subplot(1, 3, 3)\n",
    "\n",
    "df2.plot(ax = ax1, x = \"t\", y = \"x\")\n",
    "df2.plot(ax = ax2, x = \"t\", y = \"angle\")\n",
    "df2.plot(ax = ax3, x = \"t\", y = \"u\")\n",
    "plt.show()"
   ]
  },
  {
   "cell_type": "code",
   "execution_count": 21,
   "metadata": {},
   "outputs": [
    {
     "data": {
      "text/plain": [
       "x         True\n",
       "angle     True\n",
       "u         True\n",
       "t        False\n",
       "dtype: bool"
      ]
     },
     "execution_count": 21,
     "metadata": {},
     "output_type": "execute_result"
    }
   ],
   "source": [
    "df2.isna().any()"
   ]
  },
  {
   "cell_type": "markdown",
   "metadata": {},
   "source": [
    "- なんか、自作のシミュレータが途中ぶっ壊れてる？"
   ]
  },
  {
   "cell_type": "code",
   "execution_count": 22,
   "metadata": {
    "scrolled": true
   },
   "outputs": [
    {
     "name": "stderr",
     "output_type": "stream",
     "text": [
      "MovieWriter imagemagick unavailable.\n"
     ]
    },
    {
     "data": {
      "image/png": "[encoded data removed]",
      "text/plain": [
       "<Figure size 432x288 with 1 Axes>"
      ]
     },
     "metadata": {},
     "output_type": "display_data"
    }
   ],
   "source": [
    "video(np.array(df[\"x\"]), np.array(df[\"angle\"]), my_pen.l, my_pen.t, True)"
   ]
  },
  {
   "cell_type": "markdown",
   "metadata": {},
   "source": [
    "- 続いてオブザーバーゲイン"
   ]
  },
  {
   "cell_type": "code",
   "execution_count": 23,
   "metadata": {},
   "outputs": [],
   "source": [
    "A_star = A.T\n",
    "B_star = C1.T.reshape(-1,1)"
   ]
  },
  {
   "cell_type": "markdown",
   "metadata": {},
   "source": [
    "- 極配置法で極を移動"
   ]
  },
  {
   "cell_type": "code",
   "execution_count": 24,
   "metadata": {},
   "outputs": [],
   "source": [
    "poles1 = [-0.8+0.5j, -0.8-0.5j, -0.7, -0.5]\n",
    "poles2 = [-13+1j, -13-1j, -12, -10]\n",
    "F_star1 = matlab.place(A_star, B_star, poles1)\n",
    "F_star2 = matlab.place(A_star, B_star, poles2)\n",
    "L_1 = F_star1.T\n",
    "L_2 = F_star2.T"
   ]
  },
  {
   "cell_type": "code",
   "execution_count": 25,
   "metadata": {},
   "outputs": [
    {
     "name": "stdout",
     "output_type": "stream",
     "text": [
      "[[   2.8       ]\n",
      " [ -65.68941176]\n",
      " [  22.52      ]\n",
      " [-513.29258823]] [[    48.        ]\n",
      " [ -9163.85882297]\n",
      " [   881.35999996]\n",
      " [-44074.27011471]]\n"
     ]
    }
   ],
   "source": [
    "print(L_1,L_2)"
   ]
  },
  {
   "cell_type": "code",
   "execution_count": 26,
   "metadata": {},
   "outputs": [],
   "source": [
    "# オブザーバの状態方程式\n",
    "obs = matlab.ss(A-np.dot(L_1, C1.reshape(1,-1)), np.block([B, L_1]), np.eye(4), 0)"
   ]
  },
  {
   "cell_type": "code",
   "execution_count": 27,
   "metadata": {},
   "outputs": [],
   "source": [
    "#test\n",
    "y = np.dot(C1, state)\n",
    "u_hat = np.array([[u],[y[0]]])\n",
    "u_hat = np.block([np.zeros(2).reshape(-1,1), u_hat])\n",
    "u_hat\n",
    "xhat, _, _ = matlab.lsim(obs, u_hat, [0, 0.1], state)"
   ]
  },
  {
   "cell_type": "code",
   "execution_count": null,
   "metadata": {},
   "outputs": [],
   "source": []
  },
  {
   "cell_type": "code",
   "execution_count": 28,
   "metadata": {},
   "outputs": [
    {
     "name": "stdout",
     "output_type": "stream",
     "text": [
      "[[ 1.04770451]\n",
      " [ 0.19982886]\n",
      " [ 0.96353982]\n",
      " [-1.27440564]] [   2.18843093  -27.29932862    7.10176804 -161.84618136]\n",
      "[[  -8.50002591]\n",
      " [   0.74211213]\n",
      " [-190.64583764]\n",
      " [ -70.55593126]] [ -290.28415701  6755.70708412 -1746.56603057 39803.43983289]\n",
      "[[ 2285.95018749]\n",
      " [ -267.98044567]\n",
      " [46242.76291473]\n",
      " [-3053.61439532]] [   71818.95450015 -1665596.08980059   430608.85647216 -9813378.54612103]\n",
      "[[nan]\n",
      " [nan]\n",
      " [nan]\n",
      " [nan]] [nan nan nan nan]\n",
      "[[nan]\n",
      " [nan]\n",
      " [nan]\n",
      " [nan]] [nan nan nan nan]\n",
      "[[nan]\n",
      " [nan]\n",
      " [nan]\n",
      " [nan]] [nan nan nan nan]\n",
      "[[nan]\n",
      " [nan]\n",
      " [nan]\n",
      " [nan]] [nan nan nan nan]\n",
      "[[nan]\n",
      " [nan]\n",
      " [nan]\n",
      " [nan]] [nan nan nan nan]\n",
      "[[nan]\n",
      " [nan]\n",
      " [nan]\n",
      " [nan]] [nan nan nan nan]\n",
      "[[nan]\n",
      " [nan]\n",
      " [nan]\n",
      " [nan]] [nan nan nan nan]\n",
      "[[nan]\n",
      " [nan]\n",
      " [nan]\n",
      " [nan]] [nan nan nan nan]\n",
      "[[nan]\n",
      " [nan]\n",
      " [nan]\n",
      " [nan]] [nan nan nan nan]\n",
      "[[nan]\n",
      " [nan]\n",
      " [nan]\n",
      " [nan]] [nan nan nan nan]\n",
      "[[nan]\n",
      " [nan]\n",
      " [nan]\n",
      " [nan]] [nan nan nan nan]\n",
      "[[nan]\n",
      " [nan]\n",
      " [nan]\n",
      " [nan]] [nan nan nan nan]\n",
      "[[nan]\n",
      " [nan]\n",
      " [nan]\n",
      " [nan]] [nan nan nan nan]\n",
      "[[nan]\n",
      " [nan]\n",
      " [nan]\n",
      " [nan]] [nan nan nan nan]\n",
      "[[nan]\n",
      " [nan]\n",
      " [nan]\n",
      " [nan]] [nan nan nan nan]\n",
      "[[nan]\n",
      " [nan]\n",
      " [nan]\n",
      " [nan]] [nan nan nan nan]\n",
      "[[nan]\n",
      " [nan]\n",
      " [nan]\n",
      " [nan]] [nan nan nan nan]\n",
      "[[nan]\n",
      " [nan]\n",
      " [nan]\n",
      " [nan]] [nan nan nan nan]\n",
      "[[nan]\n",
      " [nan]\n",
      " [nan]\n",
      " [nan]] [nan nan nan nan]\n",
      "[[nan]\n",
      " [nan]\n",
      " [nan]\n",
      " [nan]] [nan nan nan nan]\n",
      "[[nan]\n",
      " [nan]\n",
      " [nan]\n",
      " [nan]] [nan nan nan nan]\n",
      "[[nan]\n",
      " [nan]\n",
      " [nan]\n",
      " [nan]] [nan nan nan nan]\n",
      "[[nan]\n",
      " [nan]\n",
      " [nan]\n",
      " [nan]] [nan nan nan nan]\n",
      "[[nan]\n",
      " [nan]\n",
      " [nan]\n",
      " [nan]] [nan nan nan nan]\n",
      "[[nan]\n",
      " [nan]\n",
      " [nan]\n",
      " [nan]] [nan nan nan nan]\n",
      "[[nan]\n",
      " [nan]\n",
      " [nan]\n",
      " [nan]] [nan nan nan nan]\n",
      "[[nan]\n",
      " [nan]\n",
      " [nan]\n",
      " [nan]] [nan nan nan nan]\n",
      "[[nan]\n",
      " [nan]\n",
      " [nan]\n",
      " [nan]] [nan nan nan nan]\n",
      "[[nan]\n",
      " [nan]\n",
      " [nan]\n",
      " [nan]] [nan nan nan nan]\n",
      "[[nan]\n",
      " [nan]\n",
      " [nan]\n",
      " [nan]] [nan nan nan nan]\n",
      "[[nan]\n",
      " [nan]\n",
      " [nan]\n",
      " [nan]] [nan nan nan nan]\n",
      "[[nan]\n",
      " [nan]\n",
      " [nan]\n",
      " [nan]] [nan nan nan nan]\n",
      "[[nan]\n",
      " [nan]\n",
      " [nan]\n",
      " [nan]] [nan nan nan nan]\n",
      "[[nan]\n",
      " [nan]\n",
      " [nan]\n",
      " [nan]] [nan nan nan nan]\n",
      "[[nan]\n",
      " [nan]\n",
      " [nan]\n",
      " [nan]] [nan nan nan nan]\n",
      "[[nan]\n",
      " [nan]\n",
      " [nan]\n",
      " [nan]] [nan nan nan nan]\n",
      "[[nan]\n",
      " [nan]\n",
      " [nan]\n",
      " [nan]] [nan nan nan nan]\n",
      "[[nan]\n",
      " [nan]\n",
      " [nan]\n",
      " [nan]] [nan nan nan nan]\n",
      "[[nan]\n",
      " [nan]\n",
      " [nan]\n",
      " [nan]] [nan nan nan nan]\n",
      "[[nan]\n",
      " [nan]\n",
      " [nan]\n",
      " [nan]] [nan nan nan nan]\n",
      "[[nan]\n",
      " [nan]\n",
      " [nan]\n",
      " [nan]] [nan nan nan nan]\n",
      "[[nan]\n",
      " [nan]\n",
      " [nan]\n",
      " [nan]] [nan nan nan nan]\n",
      "[[nan]\n",
      " [nan]\n",
      " [nan]\n",
      " [nan]] [nan nan nan nan]\n",
      "[[nan]\n",
      " [nan]\n",
      " [nan]\n",
      " [nan]] [nan nan nan nan]\n",
      "[[nan]\n",
      " [nan]\n",
      " [nan]\n",
      " [nan]] [nan nan nan nan]\n",
      "[[nan]\n",
      " [nan]\n",
      " [nan]\n",
      " [nan]] [nan nan nan nan]\n",
      "[[nan]\n",
      " [nan]\n",
      " [nan]\n",
      " [nan]] [nan nan nan nan]\n",
      "[[nan]\n",
      " [nan]\n",
      " [nan]\n",
      " [nan]] [nan nan nan nan]\n"
     ]
    },
    {
     "name": "stderr",
     "output_type": "stream",
     "text": [
      "/home/inoma/study/contrl_ws/wakariyasui/pendulum.py:43: RuntimeWarning: overflow encountered in double_scalars\n",
      "  thetaacc = ( ml*sintheta*( Mt*self.g - ml*self.theta_dot**2*costheta ) - self.u*ml*costheta ) / alpha\n",
      "/home/inoma/study/contrl_ws/wakariyasui/pendulum.py:44: RuntimeWarning: overflow encountered in double_scalars\n",
      "  xacc = - ( ml*sintheta*( ml*self.g*costheta - Jt*self.theta_dot**2 ) - self.u*Jt ) / alpha\n",
      "/home/inoma/study/contrl_ws/wakariyasui/pendulum.py:49: RuntimeWarning: invalid value encountered in double_scalars\n",
      "  self.theta_dot += self.t_one * thetaacc\n",
      "/home/inoma/study/contrl_ws/wakariyasui/pendulum.py:39: RuntimeWarning: invalid value encountered in cos\n",
      "  costheta = np.cos(self.theta)\n",
      "/home/inoma/study/contrl_ws/wakariyasui/pendulum.py:40: RuntimeWarning: invalid value encountered in sin\n",
      "  sintheta = np.sin(self.theta)\n"
     ]
    },
    {
     "name": "stdout",
     "output_type": "stream",
     "text": [
      "[[nan]\n",
      " [nan]\n",
      " [nan]\n",
      " [nan]] [nan nan nan nan]\n",
      "[[nan]\n",
      " [nan]\n",
      " [nan]\n",
      " [nan]] [nan nan nan nan]\n",
      "[[nan]\n",
      " [nan]\n",
      " [nan]\n",
      " [nan]] [nan nan nan nan]\n",
      "[[nan]\n",
      " [nan]\n",
      " [nan]\n",
      " [nan]] [nan nan nan nan]\n",
      "[[nan]\n",
      " [nan]\n",
      " [nan]\n",
      " [nan]] [nan nan nan nan]\n",
      "[[nan]\n",
      " [nan]\n",
      " [nan]\n",
      " [nan]] [nan nan nan nan]\n",
      "[[nan]\n",
      " [nan]\n",
      " [nan]\n",
      " [nan]] [nan nan nan nan]\n",
      "[[nan]\n",
      " [nan]\n",
      " [nan]\n",
      " [nan]] [nan nan nan nan]\n",
      "[[nan]\n",
      " [nan]\n",
      " [nan]\n",
      " [nan]] [nan nan nan nan]\n",
      "[[nan]\n",
      " [nan]\n",
      " [nan]\n",
      " [nan]] [nan nan nan nan]\n",
      "[[nan]\n",
      " [nan]\n",
      " [nan]\n",
      " [nan]] [nan nan nan nan]\n",
      "[[nan]\n",
      " [nan]\n",
      " [nan]\n",
      " [nan]] [nan nan nan nan]\n",
      "[[nan]\n",
      " [nan]\n",
      " [nan]\n",
      " [nan]] [nan nan nan nan]\n",
      "[[nan]\n",
      " [nan]\n",
      " [nan]\n",
      " [nan]] [nan nan nan nan]\n",
      "[[nan]\n",
      " [nan]\n",
      " [nan]\n",
      " [nan]] [nan nan nan nan]\n",
      "[[nan]\n",
      " [nan]\n",
      " [nan]\n",
      " [nan]] [nan nan nan nan]\n",
      "[[nan]\n",
      " [nan]\n",
      " [nan]\n",
      " [nan]] [nan nan nan nan]\n",
      "[[nan]\n",
      " [nan]\n",
      " [nan]\n",
      " [nan]] [nan nan nan nan]\n",
      "[[nan]\n",
      " [nan]\n",
      " [nan]\n",
      " [nan]] [nan nan nan nan]\n",
      "[[nan]\n",
      " [nan]\n",
      " [nan]\n",
      " [nan]] [nan nan nan nan]\n",
      "[[nan]\n",
      " [nan]\n",
      " [nan]\n",
      " [nan]] [nan nan nan nan]\n",
      "[[nan]\n",
      " [nan]\n",
      " [nan]\n",
      " [nan]] [nan nan nan nan]\n",
      "[[nan]\n",
      " [nan]\n",
      " [nan]\n",
      " [nan]] [nan nan nan nan]\n",
      "[[nan]\n",
      " [nan]\n",
      " [nan]\n",
      " [nan]] [nan nan nan nan]\n",
      "[[nan]\n",
      " [nan]\n",
      " [nan]\n",
      " [nan]] [nan nan nan nan]\n",
      "[[nan]\n",
      " [nan]\n",
      " [nan]\n",
      " [nan]] [nan nan nan nan]\n",
      "[[nan]\n",
      " [nan]\n",
      " [nan]\n",
      " [nan]] [nan nan nan nan]\n",
      "[[nan]\n",
      " [nan]\n",
      " [nan]\n",
      " [nan]] [nan nan nan nan]\n",
      "[[nan]\n",
      " [nan]\n",
      " [nan]\n",
      " [nan]] [nan nan nan nan]\n",
      "[[nan]\n",
      " [nan]\n",
      " [nan]\n",
      " [nan]] [nan nan nan nan]\n",
      "[[nan]\n",
      " [nan]\n",
      " [nan]\n",
      " [nan]] [nan nan nan nan]\n",
      "[[nan]\n",
      " [nan]\n",
      " [nan]\n",
      " [nan]] [nan nan nan nan]\n",
      "[[nan]\n",
      " [nan]\n",
      " [nan]\n",
      " [nan]] [nan nan nan nan]\n",
      "[[nan]\n",
      " [nan]\n",
      " [nan]\n",
      " [nan]] [nan nan nan nan]\n",
      "[[nan]\n",
      " [nan]\n",
      " [nan]\n",
      " [nan]] [nan nan nan nan]\n",
      "[[nan]\n",
      " [nan]\n",
      " [nan]\n",
      " [nan]] [nan nan nan nan]\n",
      "[[nan]\n",
      " [nan]\n",
      " [nan]\n",
      " [nan]] [nan nan nan nan]\n",
      "[[nan]\n",
      " [nan]\n",
      " [nan]\n",
      " [nan]] [nan nan nan nan]\n",
      "[[nan]\n",
      " [nan]\n",
      " [nan]\n",
      " [nan]] [nan nan nan nan]\n",
      "[[nan]\n",
      " [nan]\n",
      " [nan]\n",
      " [nan]] [nan nan nan nan]\n",
      "[[nan]\n",
      " [nan]\n",
      " [nan]\n",
      " [nan]] [nan nan nan nan]\n",
      "[[nan]\n",
      " [nan]\n",
      " [nan]\n",
      " [nan]] [nan nan nan nan]\n",
      "[[nan]\n",
      " [nan]\n",
      " [nan]\n",
      " [nan]] [nan nan nan nan]\n",
      "[[nan]\n",
      " [nan]\n",
      " [nan]\n",
      " [nan]] [nan nan nan nan]\n",
      "[[nan]\n",
      " [nan]\n",
      " [nan]\n",
      " [nan]] [nan nan nan nan]\n",
      "[[nan]\n",
      " [nan]\n",
      " [nan]\n",
      " [nan]] [nan nan nan nan]\n",
      "[[nan]\n",
      " [nan]\n",
      " [nan]\n",
      " [nan]] [nan nan nan nan]\n",
      "[[nan]\n",
      " [nan]\n",
      " [nan]\n",
      " [nan]] [nan nan nan nan]\n",
      "[[nan]\n",
      " [nan]\n",
      " [nan]\n",
      " [nan]] [nan nan nan nan]\n",
      "[[nan]\n",
      " [nan]\n",
      " [nan]\n",
      " [nan]] [nan nan nan nan]\n",
      "[[nan]\n",
      " [nan]\n",
      " [nan]\n",
      " [nan]] [nan nan nan nan]\n",
      "[[nan]\n",
      " [nan]\n",
      " [nan]\n",
      " [nan]] [nan nan nan nan]\n",
      "[[nan]\n",
      " [nan]\n",
      " [nan]\n",
      " [nan]] [nan nan nan nan]\n",
      "[[nan]\n",
      " [nan]\n",
      " [nan]\n",
      " [nan]] [nan nan nan nan]\n",
      "[[nan]\n",
      " [nan]\n",
      " [nan]\n",
      " [nan]] [nan nan nan nan]\n",
      "[[nan]\n",
      " [nan]\n",
      " [nan]\n",
      " [nan]] [nan nan nan nan]\n",
      "[[nan]\n",
      " [nan]\n",
      " [nan]\n",
      " [nan]] [nan nan nan nan]\n",
      "[[nan]\n",
      " [nan]\n",
      " [nan]\n",
      " [nan]] [nan nan nan nan]\n",
      "[[nan]\n",
      " [nan]\n",
      " [nan]\n",
      " [nan]] [nan nan nan nan]\n",
      "[[nan]\n",
      " [nan]\n",
      " [nan]\n",
      " [nan]] [nan nan nan nan]\n",
      "[[nan]\n",
      " [nan]\n",
      " [nan]\n",
      " [nan]] [nan nan nan nan]\n",
      "[[nan]\n",
      " [nan]\n",
      " [nan]\n",
      " [nan]] [nan nan nan nan]\n",
      "[[nan]\n",
      " [nan]\n",
      " [nan]\n",
      " [nan]] [nan nan nan nan]\n",
      "[[nan]\n",
      " [nan]\n",
      " [nan]\n",
      " [nan]] [nan nan nan nan]\n",
      "[[nan]\n",
      " [nan]\n",
      " [nan]\n",
      " [nan]] [nan nan nan nan]\n",
      "[[nan]\n",
      " [nan]\n",
      " [nan]\n",
      " [nan]] [nan nan nan nan]\n",
      "[[nan]\n",
      " [nan]\n",
      " [nan]\n",
      " [nan]] [nan nan nan nan]\n",
      "[[nan]\n",
      " [nan]\n",
      " [nan]\n",
      " [nan]] [nan nan nan nan]\n",
      "[[nan]\n",
      " [nan]\n",
      " [nan]\n",
      " [nan]] [nan nan nan nan]\n",
      "[[nan]\n",
      " [nan]\n",
      " [nan]\n",
      " [nan]] [nan nan nan nan]\n",
      "[[nan]\n",
      " [nan]\n",
      " [nan]\n",
      " [nan]] [nan nan nan nan]\n",
      "[[nan]\n",
      " [nan]\n",
      " [nan]\n",
      " [nan]] [nan nan nan nan]\n",
      "[[nan]\n",
      " [nan]\n",
      " [nan]\n",
      " [nan]] [nan nan nan nan]\n",
      "[[nan]\n",
      " [nan]\n",
      " [nan]\n",
      " [nan]] [nan nan nan nan]\n",
      "[[nan]\n",
      " [nan]\n",
      " [nan]\n",
      " [nan]] [nan nan nan nan]\n",
      "[[nan]\n",
      " [nan]\n",
      " [nan]\n",
      " [nan]] [nan nan nan nan]\n",
      "[[nan]\n",
      " [nan]\n",
      " [nan]\n",
      " [nan]] [nan nan nan nan]\n",
      "[[nan]\n",
      " [nan]\n",
      " [nan]\n",
      " [nan]] [nan nan nan nan]\n",
      "[[nan]\n",
      " [nan]\n",
      " [nan]\n",
      " [nan]] [nan nan nan nan]\n",
      "[[nan]\n",
      " [nan]\n",
      " [nan]\n",
      " [nan]] [nan nan nan nan]\n",
      "[[nan]\n",
      " [nan]\n",
      " [nan]\n",
      " [nan]] [nan nan nan nan]\n",
      "[[nan]\n",
      " [nan]\n",
      " [nan]\n",
      " [nan]] [nan nan nan nan]\n",
      "[[nan]\n",
      " [nan]\n",
      " [nan]\n",
      " [nan]] [nan nan nan nan]\n",
      "[[nan]\n",
      " [nan]\n",
      " [nan]\n",
      " [nan]] [nan nan nan nan]\n",
      "[[nan]\n",
      " [nan]\n",
      " [nan]\n",
      " [nan]] [nan nan nan nan]\n",
      "[[nan]\n",
      " [nan]\n",
      " [nan]\n",
      " [nan]] [nan nan nan nan]\n",
      "[[nan]\n",
      " [nan]\n",
      " [nan]\n",
      " [nan]] [nan nan nan nan]\n",
      "[[nan]\n",
      " [nan]\n",
      " [nan]\n",
      " [nan]] [nan nan nan nan]\n",
      "[[nan]\n",
      " [nan]\n",
      " [nan]\n",
      " [nan]] [nan nan nan nan]\n",
      "[[nan]\n",
      " [nan]\n",
      " [nan]\n",
      " [nan]] [nan nan nan nan]\n",
      "[[nan]\n",
      " [nan]\n",
      " [nan]\n",
      " [nan]] [nan nan nan nan]\n",
      "[[nan]\n",
      " [nan]\n",
      " [nan]\n",
      " [nan]] [nan nan nan nan]\n",
      "[[nan]\n",
      " [nan]\n",
      " [nan]\n",
      " [nan]] [nan nan nan nan]\n",
      "[[nan]\n",
      " [nan]\n",
      " [nan]\n",
      " [nan]] [nan nan nan nan]\n",
      "[[nan]\n",
      " [nan]\n",
      " [nan]\n",
      " [nan]] [nan nan nan nan]\n",
      "[[nan]\n",
      " [nan]\n",
      " [nan]\n",
      " [nan]] [nan nan nan nan]\n",
      "[[nan]\n",
      " [nan]\n",
      " [nan]\n",
      " [nan]] [nan nan nan nan]\n",
      "[[nan]\n",
      " [nan]\n",
      " [nan]\n",
      " [nan]] [nan nan nan nan]\n",
      "[[nan]\n",
      " [nan]\n",
      " [nan]\n",
      " [nan]] [nan nan nan nan]\n"
     ]
    }
   ],
   "source": [
    "# F1かつ状態量はオブザーバで推定する\n",
    "# 初期値は真値を与える\n",
    "\n",
    "state = [1.0, np.pi/12, 0, 0] #初期値\n",
    "angle_history = [state[1]]\n",
    "x_history = [state[0]]\n",
    "my_pen = InvertedPendulum(state[0], state[1], False)\n",
    "u = np.dot(F1, state)[0,0]\n",
    "u_history = [u]\n",
    "sampling_time = my_pen.t #[s]\n",
    "total_sim_time = 15 #[s]\n",
    "\n",
    "count_list = np.linspace(sampling_time, total_sim_time, int(total_sim_time/sampling_time))\n",
    "state = np.array(state).reshape(-1,1)\n",
    "obs_state = state.copy()\n",
    "\n",
    "u_hat = np.array([[u],[0]])\n",
    "u_hat = np.block([np.zeros(2).reshape(-1,1), u_hat])\n",
    "\n",
    "for t in count_list:\n",
    "    u = -np.dot(F1, obs_state)[0,0]\n",
    "    _ = my_pen.do_action(u)\n",
    "    x, x_dot, theta, theta_dot = my_pen.get_state()\n",
    "\n",
    "    state = np.array([x, x_dot, theta, theta_dot]).reshape(-1,1)\n",
    "\n",
    "    y = np.dot(C1, state)\n",
    "    tmp = np.array([[u],[y[0]]])\n",
    "    u_hat = np.block([np.zeros(2).reshape(-1,1), tmp])\n",
    "    \n",
    "    obs_state, _, _ = matlab.lsim(obs, u_hat, [0, 0.1], obs_state)\n",
    "    obs_state = obs_state[-1]\n",
    "    print(state, obs_state)\n",
    "    \n",
    "    x_history.append(x)\n",
    "    angle_history.append(theta)\n",
    "    u_history.append(u)\n",
    "\n",
    "count_list = np.insert(count_list, 0, 0)\n",
    "\n",
    "df = pd.DataFrame()\n",
    "df[\"x\"] = x_history\n",
    "df[\"angle\"] = angle_history\n",
    "df[\"u\"] = u_history\n",
    "df[\"t\"] = count_list"
   ]
  },
  {
   "cell_type": "code",
   "execution_count": 29,
   "metadata": {},
   "outputs": [
    {
     "data": {
      "text/html": [
       "<div>\n",
       "<style scoped>\n",
       "    .dataframe tbody tr th:only-of-type {\n",
       "        vertical-align: middle;\n",
       "    }\n",
       "\n",
       "    .dataframe tbody tr th {\n",
       "        vertical-align: top;\n",
       "    }\n",
       "\n",
       "    .dataframe thead th {\n",
       "        text-align: right;\n",
       "    }\n",
       "</style>\n",
       "<table border=\"1\" class=\"dataframe\">\n",
       "  <thead>\n",
       "    <tr style=\"text-align: right;\">\n",
       "      <th></th>\n",
       "      <th>x</th>\n",
       "      <th>angle</th>\n",
       "      <th>u</th>\n",
       "      <th>t</th>\n",
       "    </tr>\n",
       "  </thead>\n",
       "  <tbody>\n",
       "    <tr>\n",
       "      <th>0</th>\n",
       "      <td>1.000000</td>\n",
       "      <td>0.261799</td>\n",
       "      <td>-7.451418e+00</td>\n",
       "      <td>0.0</td>\n",
       "    </tr>\n",
       "    <tr>\n",
       "      <th>1</th>\n",
       "      <td>1.047705</td>\n",
       "      <td>0.963540</td>\n",
       "      <td>7.451418e+00</td>\n",
       "      <td>0.1</td>\n",
       "    </tr>\n",
       "    <tr>\n",
       "      <th>2</th>\n",
       "      <td>-8.500026</td>\n",
       "      <td>-190.645838</td>\n",
       "      <td>-1.589017e+03</td>\n",
       "      <td>0.2</td>\n",
       "    </tr>\n",
       "    <tr>\n",
       "      <th>3</th>\n",
       "      <td>2285.950187</td>\n",
       "      <td>46242.762915</td>\n",
       "      <td>3.920728e+05</td>\n",
       "      <td>0.3</td>\n",
       "    </tr>\n",
       "    <tr>\n",
       "      <th>4</th>\n",
       "      <td>NaN</td>\n",
       "      <td>NaN</td>\n",
       "      <td>-9.666381e+07</td>\n",
       "      <td>0.4</td>\n",
       "    </tr>\n",
       "    <tr>\n",
       "      <th>5</th>\n",
       "      <td>NaN</td>\n",
       "      <td>NaN</td>\n",
       "      <td>NaN</td>\n",
       "      <td>0.5</td>\n",
       "    </tr>\n",
       "    <tr>\n",
       "      <th>6</th>\n",
       "      <td>NaN</td>\n",
       "      <td>NaN</td>\n",
       "      <td>NaN</td>\n",
       "      <td>0.6</td>\n",
       "    </tr>\n",
       "    <tr>\n",
       "      <th>7</th>\n",
       "      <td>NaN</td>\n",
       "      <td>NaN</td>\n",
       "      <td>NaN</td>\n",
       "      <td>0.7</td>\n",
       "    </tr>\n",
       "    <tr>\n",
       "      <th>8</th>\n",
       "      <td>NaN</td>\n",
       "      <td>NaN</td>\n",
       "      <td>NaN</td>\n",
       "      <td>0.8</td>\n",
       "    </tr>\n",
       "    <tr>\n",
       "      <th>9</th>\n",
       "      <td>NaN</td>\n",
       "      <td>NaN</td>\n",
       "      <td>NaN</td>\n",
       "      <td>0.9</td>\n",
       "    </tr>\n",
       "  </tbody>\n",
       "</table>\n",
       "</div>"
      ],
      "text/plain": [
       "             x         angle             u    t\n",
       "0     1.000000      0.261799 -7.451418e+00  0.0\n",
       "1     1.047705      0.963540  7.451418e+00  0.1\n",
       "2    -8.500026   -190.645838 -1.589017e+03  0.2\n",
       "3  2285.950187  46242.762915  3.920728e+05  0.3\n",
       "4          NaN           NaN -9.666381e+07  0.4\n",
       "5          NaN           NaN           NaN  0.5\n",
       "6          NaN           NaN           NaN  0.6\n",
       "7          NaN           NaN           NaN  0.7\n",
       "8          NaN           NaN           NaN  0.8\n",
       "9          NaN           NaN           NaN  0.9"
      ]
     },
     "execution_count": 29,
     "metadata": {},
     "output_type": "execute_result"
    }
   ],
   "source": [
    "df.head(10)"
   ]
  },
  {
   "cell_type": "code",
   "execution_count": null,
   "metadata": {},
   "outputs": [],
   "source": []
  }
 ],
 "metadata": {
  "kernelspec": {
   "display_name": "Python 3",
   "language": "python",
   "name": "python3"
  },
  "language_info": {
   "codemirror_mode": {
    "name": "ipython",
    "version": 3
   },
   "file_extension": ".py",
   "mimetype": "text/x-python",
   "name": "python",
   "nbconvert_exporter": "python",
   "pygments_lexer": "ipython3",
   "version": "3.6.5"
  }
 },
 "nbformat": 4,
 "nbformat_minor": 4
}
