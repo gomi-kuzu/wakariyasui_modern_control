{
 "cells": [
  {
   "cell_type": "code",
   "execution_count": 1,
   "metadata": {},
   "outputs": [],
   "source": [
    "import numpy as np\n",
    "from control import matlab\n",
    "import pandas as pd"
   ]
  },
  {
   "cell_type": "markdown",
   "metadata": {},
   "source": [
    "# 9.5 数値シミュレーション\n",
    "- control.matlab.lqrに最適レギュレータが実装されている\n",
    "    - 関数から帰ってくるF,X,Eは\n",
    "        - F:フィードバックゲイン\n",
    "        - X:リカッチ方程式の解\n",
    "        - E:閉ループ系の極"
   ]
  },
  {
   "cell_type": "code",
   "execution_count": 2,
   "metadata": {},
   "outputs": [],
   "source": [
    "A = np.array(pd.read_csv(\"./data/sim1/sys_A.csv\", header=None))\n",
    "B = np.array(pd.read_csv(\"./data/sim1/sys_b.csv\", header=None))\n",
    "C = np.array(pd.read_csv(\"./data/sim1/sys_c.csv\", header=None))\n",
    "\n",
    "Pss = matlab.ss(A, B, C, 0)"
   ]
  },
  {
   "cell_type": "code",
   "execution_count": 3,
   "metadata": {},
   "outputs": [],
   "source": [
    "Q = np.diag([10]*9)\n",
    "R = np.diag([10]*2)"
   ]
  },
  {
   "cell_type": "code",
   "execution_count": 4,
   "metadata": {},
   "outputs": [],
   "source": [
    "F, X, E = matlab.lqr(Pss.A, Pss.B, Q, R)"
   ]
  },
  {
   "cell_type": "code",
   "execution_count": 11,
   "metadata": {},
   "outputs": [
    {
     "data": {
      "text/plain": [
       "array([-1.06803978e+02+15.80269197j, -1.06803978e+02-15.80269197j,\n",
       "       -6.22446902e-02+10.4594185j , -6.22446902e-02-10.4594185j ,\n",
       "       -1.29873340e+01 +0.j        , -3.40349396e+01 +9.95086901j,\n",
       "       -3.40349396e+01 -9.95086901j, -2.96303407e+01 +0.j        ,\n",
       "       -5.00000000e+00 +0.j        ])"
      ]
     },
     "metadata": {},
     "output_type": "display_data"
    },
    {
     "data": {
      "text/plain": [
       "array([-107.930374 +15.291009j, -107.930374 -15.291009j,\n",
       "        -34.78741   +9.299614j,  -34.78741   -9.299614j,\n",
       "        -29.380627  +0.j      ,   -9.922343 +13.230641j,\n",
       "         -9.922343 -13.230641j,  -11.765754  +0.j      ,\n",
       "         -3.1871777 +0.j      ], dtype=complex64)"
      ]
     },
     "metadata": {},
     "output_type": "display_data"
    }
   ],
   "source": [
    "display(np.linalg.eigvals(A))\n",
    "# display(np.linalg.eigvals(A-np.dot(B,F)))\n",
    "display(E)"
   ]
  },
  {
   "cell_type": "markdown",
   "metadata": {},
   "source": [
    "# ハマりメモ\n",
    "- slycotモジュールが入ってなくて最初エラーでた\n",
    "    - `pip install slycot` だけでは入らなかった\n",
    "        - `sudo apt-get install gfortran`と\n",
    "        - `sudo apt-get install libblas-dev liblapack-dev`した後もう一度`pip install slycot`したらslycotが入ってlqrもちゃんと走るようになった"
   ]
  },
  {
   "cell_type": "code",
   "execution_count": null,
   "metadata": {},
   "outputs": [],
   "source": []
  }
 ],
 "metadata": {
  "kernelspec": {
   "display_name": "Python 3",
   "language": "python",
   "name": "python3"
  },
  "language_info": {
   "codemirror_mode": {
    "name": "ipython",
    "version": 3
   },
   "file_extension": ".py",
   "mimetype": "text/x-python",
   "name": "python",
   "nbconvert_exporter": "python",
   "pygments_lexer": "ipython3",
   "version": "3.7.0"
  }
 },
 "nbformat": 4,
 "nbformat_minor": 4
}
