{
 "cells": [
  {
   "cell_type": "code",
   "execution_count": 33,
   "metadata": {},
   "outputs": [],
   "source": [
    "import numpy as np\n",
    "from control import matlab\n",
    "import matplotlib.pyplot as plt\n",
    "import japanize_matplotlib\n",
    "import pandas as pd"
   ]
  },
  {
   "cell_type": "markdown",
   "metadata": {},
   "source": [
    "# 演習問題\n",
    "## 11.1"
   ]
  },
  {
   "cell_type": "code",
   "execution_count": 10,
   "metadata": {},
   "outputs": [],
   "source": [
    "A = np.array([[0, 1],[0, 2]])\n",
    "B = np.array([[0], [1]])\n",
    "C = np.array([[1, 0]])\n",
    "D = np.array([[0]])"
   ]
  },
  {
   "cell_type": "markdown",
   "metadata": {},
   "source": [
    "- 拡大系の可制御性を判別する"
   ]
  },
  {
   "cell_type": "code",
   "execution_count": 4,
   "metadata": {},
   "outputs": [],
   "source": [
    "Uc_bar = np.block([[A, B], [C, np.zeros((1,1))]])\n",
    "Rc = np.linalg.matrix_rank(Uc_bar)"
   ]
  },
  {
   "cell_type": "code",
   "execution_count": 8,
   "metadata": {},
   "outputs": [
    {
     "data": {
      "text/plain": [
       "array([[0., 1., 0.],\n",
       "       [0., 2., 1.],\n",
       "       [1., 0., 0.]])"
      ]
     },
     "metadata": {},
     "output_type": "display_data"
    },
    {
     "name": "stdout",
     "output_type": "stream",
     "text": [
      "ランク: 3 サイズ: 3\n"
     ]
    }
   ],
   "source": [
    "display(Uc_bar)\n",
    "print(\"ランク:\",Rc,\"サイズ:\",min(Uc_bar.shape))"
   ]
  },
  {
   "cell_type": "markdown",
   "metadata": {},
   "source": [
    "- ランクがn+m=3なので設計条件を満たしている"
   ]
  },
  {
   "cell_type": "markdown",
   "metadata": {},
   "source": [
    "## 11.2"
   ]
  },
  {
   "cell_type": "markdown",
   "metadata": {},
   "source": [
    "- まずは状態フィードバックゲインを極配置法で決める"
   ]
  },
  {
   "cell_type": "code",
   "execution_count": 21,
   "metadata": {},
   "outputs": [
    {
     "name": "stdout",
     "output_type": "stream",
     "text": [
      "[0. 2.]\n"
     ]
    },
    {
     "data": {
      "image/png": "[encoded data removed]",
      "text/plain": [
       "<Figure size 432x288 with 1 Axes>"
      ]
     },
     "metadata": {},
     "output_type": "display_data"
    }
   ],
   "source": [
    "# 元々の固有値を確認\n",
    "plt.figure()\n",
    "print(np.linalg.eig(A)[0])\n",
    "plt.scatter(np.real(np.linalg.eigvals(A)), np.imag(np.linalg.eigvals(A)))\n",
    "plt.axhline(0,-120,5,color=\"gray\")\n",
    "plt.axvline(0,-20,20,color=\"gray\")\n",
    "plt.show()"
   ]
  },
  {
   "cell_type": "code",
   "execution_count": 22,
   "metadata": {},
   "outputs": [
    {
     "data": {
      "text/plain": [
       "matrix([[3., 6.]])"
      ]
     },
     "execution_count": 22,
     "metadata": {},
     "output_type": "execute_result"
    }
   ],
   "source": [
    "pole = [-1, -3] #配置したい極の位置\n",
    "F = matlab.acker(A, B, pole)\n",
    "F"
   ]
  },
  {
   "cell_type": "code",
   "execution_count": 23,
   "metadata": {},
   "outputs": [
    {
     "data": {
      "text/plain": [
       "array([-1., -3.])"
      ]
     },
     "execution_count": 23,
     "metadata": {},
     "output_type": "execute_result"
    }
   ],
   "source": [
    "np.linalg.eigvals(Pss.A-np.dot(Pss.B, F))"
   ]
  },
  {
   "cell_type": "markdown",
   "metadata": {},
   "source": [
    "- 図11.2のようなサーボ系を構築すると、拡大系は式11.1.9より…"
   ]
  },
  {
   "cell_type": "code",
   "execution_count": 192,
   "metadata": {},
   "outputs": [],
   "source": [
    "K = 10 #比例ゲイン\n",
    "A_bar = np.block([[A, np.zeros((A.shape[0], B.shape[1]))],[-C, np.zeros((C.shape[0], C.shape[0]))]])\n",
    "B_bar = np.block([[B],[np.zeros((C.shape[0], B.shape[1]))]])\n",
    "# F_bar = np.block([F, -K])\n",
    "\n",
    "C_bar = np.block([C, np.zeros((C.shape[0], C.shape[0]))])"
   ]
  },
  {
   "cell_type": "code",
   "execution_count": null,
   "metadata": {},
   "outputs": [],
   "source": []
  },
  {
   "cell_type": "markdown",
   "metadata": {},
   "source": [
    "## 11.3"
   ]
  },
  {
   "cell_type": "code",
   "execution_count": 193,
   "metadata": {},
   "outputs": [],
   "source": [
    "r = 2\n",
    "v = np.zeros((A.shape[0], 1))\n",
    "\n",
    "Td = np.arange(0, 50, 0.01) #シミュレーション時間0~50s,0.01s刻み\n",
    "Ud = r*(Td>0) #入力信号（ステップ入力）\n",
    "\n",
    "X0 = [1.0, 1.0, 0.0] # 初期状態量\n",
    "sys = matlab.ss(A_bar-np.dot(B_bar,F_bar), B_bar, C_bar, 0)\n",
    "y, tt, x = matlab.lsim(sys, Ud, Td, X0) #線形システムシミュレータ\n",
    "# y, tt, x = matlab.step(sys, Td, input=Ud, return_x=True) "
   ]
  },
  {
   "cell_type": "code",
   "execution_count": 172,
   "metadata": {},
   "outputs": [],
   "source": [
    "df = pd.concat((pd.DataFrame(tt), pd.DataFrame(y) ,pd.DataFrame(np.dot(x, -F_bar.T)), pd.DataFrame(x)), axis = 1) #u =-Fx "
   ]
  },
  {
   "cell_type": "code",
   "execution_count": 173,
   "metadata": {},
   "outputs": [],
   "source": [
    "df.columns = [\"t\", \"y\", \"u\", \"x1\", \"x2\", \"z\" ]"
   ]
  },
  {
   "cell_type": "code",
   "execution_count": 174,
   "metadata": {},
   "outputs": [
    {
     "data": {
      "text/plain": [
       "<matplotlib.axes._subplots.AxesSubplot at 0x7f3b3dfae1d0>"
      ]
     },
     "execution_count": 174,
     "metadata": {},
     "output_type": "execute_result"
    },
    {
     "data": {
      "image/png": "[encoded data removed]",
      "text/plain": [
       "<Figure size 432x288 with 1 Axes>"
      ]
     },
     "metadata": {},
     "output_type": "display_data"
    }
   ],
   "source": [
    "df.plot(x=\"t\", y=[\"y\",\"z\"])"
   ]
  },
  {
   "cell_type": "markdown",
   "metadata": {},
   "source": [
    "### なんか思ってたんと違う結果に？？？\n",
    "- yはrに収束してほしかったけど、0でいいんだっけ？\n",
    "    - lsimの実装上rは外乱としてしか働いてない？\n",
    "- z(偏差の積分値)は定数に収束してるので偏差は0に収束してるっぽい（からOk？）"
   ]
  },
  {
   "cell_type": "markdown",
   "metadata": {},
   "source": [
    "## 試しに伝達関数に直してシミュレーションしてみる（->結果同じ）"
   ]
  },
  {
   "cell_type": "code",
   "execution_count": 200,
   "metadata": {},
   "outputs": [
    {
     "data": {
      "text/plain": [
       "<matplotlib.axes._subplots.AxesSubplot at 0x7f3b3db77a20>"
      ]
     },
     "execution_count": 200,
     "metadata": {},
     "output_type": "execute_result"
    },
    {
     "data": {
      "image/png": "[encoded data removed]",
      "text/plain": [
       "<Figure size 432x288 with 1 Axes>"
      ]
     },
     "metadata": {},
     "output_type": "display_data"
    }
   ],
   "source": [
    "Gs = matlab.ss2tf(sys)\n",
    "(y1a, T1a) = matlab.step(Gs,T = np.arange(0, 50, 0.01))\n",
    "df = pd.concat((pd.DataFrame(y1a), pd.DataFrame(T1a)), axis=1)\n",
    "df.columns = [\"y\", \"t\"]\n",
    "df.plot(x=\"t\", y=\"y\")"
   ]
  },
  {
   "cell_type": "markdown",
   "metadata": {},
   "source": [
    "## 積分器がないただの状態フィードバックの場合"
   ]
  },
  {
   "cell_type": "code",
   "execution_count": 175,
   "metadata": {},
   "outputs": [],
   "source": [
    "r = 2\n",
    "v = np.zeros((A.shape[0], 1))\n",
    "\n",
    "Td = np.arange(0, 50, 0.01) #シミュレーション時間0~50s,0.01s刻み\n",
    "Ud = r*(Td>0) #入力信号（ステップ入力）\n",
    "\n",
    "X0 = [1]*2 # 初期状態量\n",
    "sys = matlab.ss(A-np.dot(B,F), B, C, 0)\n",
    "y, tt, x = matlab.lsim(sys, Ud, Td, X0) #線形システムシミュレータ"
   ]
  },
  {
   "cell_type": "code",
   "execution_count": 176,
   "metadata": {},
   "outputs": [],
   "source": [
    "df = pd.concat((pd.DataFrame(tt), pd.DataFrame(y) ,pd.DataFrame(np.dot(x, -F.T))), axis = 1) #u =-Fx "
   ]
  },
  {
   "cell_type": "code",
   "execution_count": 177,
   "metadata": {},
   "outputs": [
    {
     "data": {
      "text/plain": [
       "<matplotlib.axes._subplots.AxesSubplot at 0x7f3b3e373940>"
      ]
     },
     "execution_count": 177,
     "metadata": {},
     "output_type": "execute_result"
    },
    {
     "data": {
      "image/png": "[encoded data removed]",
      "text/plain": [
       "<Figure size 432x288 with 1 Axes>"
      ]
     },
     "metadata": {},
     "output_type": "display_data"
    }
   ],
   "source": [
    "df.columns = [\"t\", \"y\", \"u\" ]\n",
    "df.plot(x=\"t\", y=\"y\")"
   ]
  },
  {
   "cell_type": "markdown",
   "metadata": {},
   "source": [
    "- ゼロじゃなくて変なとこに収束する"
   ]
  },
  {
   "cell_type": "code",
   "execution_count": null,
   "metadata": {},
   "outputs": [],
   "source": []
  },
  {
   "cell_type": "code",
   "execution_count": null,
   "metadata": {},
   "outputs": [],
   "source": []
  },
  {
   "cell_type": "markdown",
   "metadata": {},
   "source": [
    "## ゲインKを手動で決めずに一気に極配置したほうがよい？"
   ]
  },
  {
   "cell_type": "code",
   "execution_count": 148,
   "metadata": {},
   "outputs": [
    {
     "name": "stdout",
     "output_type": "stream",
     "text": [
      "[0. 0. 2.]\n"
     ]
    },
    {
     "data": {
      "image/png": "[encoded data removed]",
      "text/plain": [
       "<Figure size 432x288 with 1 Axes>"
      ]
     },
     "metadata": {},
     "output_type": "display_data"
    }
   ],
   "source": [
    "# 拡大系の固有値を確認\n",
    "plt.figure()\n",
    "print(np.linalg.eig(A_bar)[0])\n",
    "plt.scatter(np.real(np.linalg.eigvals(A_bar)), np.imag(np.linalg.eigvals(A_bar)))\n",
    "plt.axhline(0,-120,5,color=\"gray\")\n",
    "plt.axvline(0,-20,20,color=\"gray\")\n",
    "plt.show()"
   ]
  },
  {
   "cell_type": "code",
   "execution_count": 150,
   "metadata": {},
   "outputs": [
    {
     "data": {
      "text/plain": [
       "matrix([[ 7.,  7., -3.]])"
      ]
     },
     "execution_count": 150,
     "metadata": {},
     "output_type": "execute_result"
    }
   ],
   "source": [
    "pole = [-1, -1, -3] #配置したい極の位置\n",
    "F_bar = matlab.acker(A_bar, B_bar, pole)\n",
    "F_bar"
   ]
  }
 ],
 "metadata": {
  "kernelspec": {
   "display_name": "Python 3",
   "language": "python",
   "name": "python3"
  },
  "language_info": {
   "codemirror_mode": {
    "name": "ipython",
    "version": 3
   },
   "file_extension": ".py",
   "mimetype": "text/x-python",
   "name": "python",
   "nbconvert_exporter": "python",
   "pygments_lexer": "ipython3",
   "version": "3.6.5"
  }
 },
 "nbformat": 4,
 "nbformat_minor": 4
}
