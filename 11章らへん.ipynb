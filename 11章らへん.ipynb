{
 "cells": [
  {
   "cell_type": "code",
   "execution_count": 1,
   "metadata": {},
   "outputs": [],
   "source": [
    "import numpy as np\n",
    "from control import matlab\n",
    "import matplotlib.pyplot as plt\n",
    "import japanize_matplotlib\n",
    "import pandas as pd"
   ]
  },
  {
   "cell_type": "markdown",
   "metadata": {},
   "source": [
    "# 演習問題\n",
    "## 11.1"
   ]
  },
  {
   "cell_type": "code",
   "execution_count": 2,
   "metadata": {},
   "outputs": [],
   "source": [
    "A = np.array([[0, 1],[0, 2]])\n",
    "B = np.array([[0], [1]])\n",
    "C = np.array([[1, 0]])\n",
    "D = np.array([[0]])"
   ]
  },
  {
   "cell_type": "markdown",
   "metadata": {},
   "source": [
    "- 拡大系の可制御性を判別する"
   ]
  },
  {
   "cell_type": "code",
   "execution_count": 3,
   "metadata": {},
   "outputs": [],
   "source": [
    "Uc_bar = np.block([[A, B], [C, np.zeros((1,1))]])\n",
    "Rc = np.linalg.matrix_rank(Uc_bar)"
   ]
  },
  {
   "cell_type": "code",
   "execution_count": 4,
   "metadata": {},
   "outputs": [
    {
     "data": {
      "text/plain": [
       "array([[0., 1., 0.],\n",
       "       [0., 2., 1.],\n",
       "       [1., 0., 0.]])"
      ]
     },
     "metadata": {},
     "output_type": "display_data"
    },
    {
     "name": "stdout",
     "output_type": "stream",
     "text": [
      "ランク: 3 サイズ: 3\n"
     ]
    }
   ],
   "source": [
    "display(Uc_bar)\n",
    "print(\"ランク:\",Rc,\"サイズ:\",min(Uc_bar.shape))"
   ]
  },
  {
   "cell_type": "markdown",
   "metadata": {},
   "source": [
    "- ランクがn+m=3なので設計条件を満たしている"
   ]
  },
  {
   "cell_type": "markdown",
   "metadata": {},
   "source": [
    "## 11.2"
   ]
  },
  {
   "cell_type": "markdown",
   "metadata": {},
   "source": [
    "- 図11.2のようなサーボ系を構築すると、拡大系は式11.1.9より…"
   ]
  },
  {
   "cell_type": "code",
   "execution_count": 5,
   "metadata": {},
   "outputs": [],
   "source": [
    "A_bar = np.block([[A, np.zeros((A.shape[0], B.shape[1]))],[-C, np.zeros((C.shape[0], C.shape[0]))]])\n",
    "B_bar = np.block([[B],[np.zeros((C.shape[0], B.shape[1]))]])\n",
    "\n",
    "C_bar = np.block([C, np.zeros((C.shape[0], C.shape[0]))])"
   ]
  },
  {
   "cell_type": "code",
   "execution_count": 6,
   "metadata": {},
   "outputs": [
    {
     "name": "stdout",
     "output_type": "stream",
     "text": [
      "[0. 0. 2.]\n"
     ]
    },
    {
     "data": {
      "image/png": "[encoded data removed]",
      "text/plain": [
       "<Figure size 432x288 with 1 Axes>"
      ]
     },
     "metadata": {},
     "output_type": "display_data"
    }
   ],
   "source": [
    "# 拡大系の固有値を確認\n",
    "plt.figure()\n",
    "print(np.linalg.eig(A_bar)[0])\n",
    "plt.scatter(np.real(np.linalg.eigvals(A_bar)), np.imag(np.linalg.eigvals(A_bar)))\n",
    "plt.axhline(0,-120,5,color=\"gray\")\n",
    "plt.axvline(0,-20,20,color=\"gray\")\n",
    "plt.show()"
   ]
  },
  {
   "cell_type": "markdown",
   "metadata": {},
   "source": [
    "- 極配置法で極を移動"
   ]
  },
  {
   "cell_type": "code",
   "execution_count": 7,
   "metadata": {},
   "outputs": [
    {
     "data": {
      "text/plain": [
       "matrix([[ 7.,  7., -3.]])"
      ]
     },
     "execution_count": 7,
     "metadata": {},
     "output_type": "execute_result"
    }
   ],
   "source": [
    "pole = [-1, -1, -3] #配置したい極の位置\n",
    "F_bar = matlab.acker(A_bar, B_bar, pole)\n",
    "F_bar"
   ]
  },
  {
   "cell_type": "markdown",
   "metadata": {},
   "source": [
    "## 11.3"
   ]
  },
  {
   "cell_type": "markdown",
   "metadata": {},
   "source": [
    "### 注意\n",
    "- 式(11.1.11)に拡大系の入力行列B（単位行列）が実は隠れている\n",
    "    - $\\dot{\\bar{x}} = (\\bar{A}-\\bar{B}\\bar{F})\\bar{x} + I\\left(\n",
    "    \\begin{array}{c}\n",
    "      v  \\\\\n",
    "      r\n",
    "    \\end{array}\n",
    "  \\right)$って感じになってる\n",
    "        - のでこれをlsim関数に渡してあげなければいけない"
   ]
  },
  {
   "cell_type": "code",
   "execution_count": 8,
   "metadata": {},
   "outputs": [],
   "source": [
    "Td = np.arange(0, 50, 0.01) #シミュレーション時間0~50s,0.01s刻み\n",
    "\n",
    "v1 = 1*(Td>0) #ステップ状外乱\n",
    "v2 = 2*(Td>0) \n",
    "r  = 3*(Td>0) #ステップ状入力\n",
    "\n",
    "Ud = np.block([[v1], [v2], [r]]).T\n",
    "\n",
    "X0 = [1.0, 1.0, 0.0] # 初期状態量\n",
    "sys = matlab.ss(A_bar-np.dot(B_bar,F_bar), np.eye(3), C_bar, 0)\n",
    "y, tt, x = matlab.lsim(sys, Ud, Td, X0) #線形システムシミュレータ"
   ]
  },
  {
   "cell_type": "code",
   "execution_count": 9,
   "metadata": {},
   "outputs": [],
   "source": [
    "df = pd.concat((pd.DataFrame(tt), pd.DataFrame(y) ,pd.DataFrame(np.dot(x, -F_bar.T)), pd.DataFrame(x)), axis = 1) #u =-Fx "
   ]
  },
  {
   "cell_type": "code",
   "execution_count": 10,
   "metadata": {},
   "outputs": [],
   "source": [
    "df.columns = [\"t\", \"y\", \"u\", \"x1\", \"x2\", \"z\" ]"
   ]
  },
  {
   "cell_type": "code",
   "execution_count": 11,
   "metadata": {},
   "outputs": [
    {
     "data": {
      "text/plain": [
       "<matplotlib.axes._subplots.AxesSubplot at 0x7f2188045550>"
      ]
     },
     "execution_count": 11,
     "metadata": {},
     "output_type": "execute_result"
    },
    {
     "data": {
      "image/png": "[encoded data removed]",
      "text/plain": [
       "<Figure size 432x288 with 1 Axes>"
      ]
     },
     "metadata": {},
     "output_type": "display_data"
    }
   ],
   "source": [
    "df.plot(x=\"t\", y=\"y\")"
   ]
  },
  {
   "cell_type": "markdown",
   "metadata": {},
   "source": [
    "- 外乱が入っても偏差なく入力を追従している"
   ]
  },
  {
   "cell_type": "markdown",
   "metadata": {},
   "source": [
    "## 積分器がないただの状態フィードバックの場合"
   ]
  },
  {
   "cell_type": "code",
   "execution_count": 12,
   "metadata": {},
   "outputs": [
    {
     "data": {
      "text/plain": [
       "matrix([[ 3., 21.]])"
      ]
     },
     "execution_count": 12,
     "metadata": {},
     "output_type": "execute_result"
    }
   ],
   "source": [
    "pole2 = [-1, -3] #配置したい極の位置\n",
    "F = matlab.acker(A, B, pole)\n",
    "F"
   ]
  },
  {
   "cell_type": "code",
   "execution_count": 13,
   "metadata": {},
   "outputs": [],
   "source": [
    "r = 2\n",
    "v = np.zeros((A.shape[0], 1))\n",
    "\n",
    "Td = np.arange(0, 50, 0.01) #シミュレーション時間0~50s,0.01s刻み\n",
    "Ud = r*(Td>0) #入力信号（ステップ入力）\n",
    "\n",
    "X0 = [1]*2 # 初期状態量\n",
    "sys = matlab.ss(A-np.dot(B,F), B, C, 0)\n",
    "y, tt, x = matlab.lsim(sys, Ud, Td, X0) #線形システムシミュレータ"
   ]
  },
  {
   "cell_type": "code",
   "execution_count": 14,
   "metadata": {},
   "outputs": [],
   "source": [
    "df = pd.concat((pd.DataFrame(tt), pd.DataFrame(y) ,pd.DataFrame(np.dot(x, -F.T))), axis = 1) #u =-Fx "
   ]
  },
  {
   "cell_type": "code",
   "execution_count": 15,
   "metadata": {},
   "outputs": [
    {
     "data": {
      "text/plain": [
       "<matplotlib.axes._subplots.AxesSubplot at 0x7f217e697198>"
      ]
     },
     "execution_count": 15,
     "metadata": {},
     "output_type": "execute_result"
    },
    {
     "data": {
      "image/png": "[encoded data removed]",
      "text/plain": [
       "<Figure size 432x288 with 1 Axes>"
      ]
     },
     "metadata": {},
     "output_type": "display_data"
    }
   ],
   "source": [
    "df.columns = [\"t\", \"y\", \"u\" ]\n",
    "df.plot(x=\"t\", y=\"y\")"
   ]
  },
  {
   "cell_type": "markdown",
   "metadata": {},
   "source": [
    "- 定常偏差が残る"
   ]
  },
  {
   "cell_type": "code",
   "execution_count": null,
   "metadata": {},
   "outputs": [],
   "source": []
  }
 ],
 "metadata": {
  "kernelspec": {
   "display_name": "Python 3",
   "language": "python",
   "name": "python3"
  },
  "language_info": {
   "codemirror_mode": {
    "name": "ipython",
    "version": 3
   },
   "file_extension": ".py",
   "mimetype": "text/x-python",
   "name": "python",
   "nbconvert_exporter": "python",
   "pygments_lexer": "ipython3",
   "version": "3.6.5"
  }
 },
 "nbformat": 4,
 "nbformat_minor": 4
}
