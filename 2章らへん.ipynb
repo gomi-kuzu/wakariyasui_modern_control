{
 "cells": [
  {
   "cell_type": "code",
   "execution_count": 1,
   "metadata": {},
   "outputs": [],
   "source": [
    "from control import matlab\n",
    "import numpy as np\n",
    "import matplotlib.pyplot as plt\n",
    "import pandas as pd\n",
    "import sympy as sp"
   ]
  },
  {
   "cell_type": "markdown",
   "metadata": {},
   "source": [
    "# 状態遷移行列$e^{At}$の求め方"
   ]
  },
  {
   "cell_type": "code",
   "execution_count": 108,
   "metadata": {},
   "outputs": [],
   "source": [
    "sp.init_printing()\n",
    "# pythonで代数学的に解く\n",
    "s = sp.Symbol('s')\n",
    "t = sp.Symbol('t', positive=True) #tは正"
   ]
  },
  {
   "cell_type": "code",
   "execution_count": 109,
   "metadata": {},
   "outputs": [
    {
     "data": {
      "text/latex": [
       "$$\\left[\\begin{matrix}\\frac{\\left(3 e^{2 t} - 1\\right) e^{- 3 t}}{2} & \\frac{\\left(e^{2 t} - 1\\right) e^{- 3 t}}{2}\\\\\\frac{3 \\left(- e^{2 t} + 1\\right) e^{- 3 t}}{2} & \\frac{\\left(- e^{2 t} + 3\\right) e^{- 3 t}}{2}\\end{matrix}\\right]$$"
      ],
      "text/plain": [
       "⎡ ⎛   2⋅t    ⎞  -3⋅t    ⎛ 2⋅t    ⎞  -3⋅t ⎤\n",
       "⎢ ⎝3⋅ℯ    - 1⎠⋅ℯ        ⎝ℯ    - 1⎠⋅ℯ     ⎥\n",
       "⎢ ──────────────────    ──────────────── ⎥\n",
       "⎢         2                    2         ⎥\n",
       "⎢                                        ⎥\n",
       "⎢  ⎛   2⋅t    ⎞  -3⋅t  ⎛   2⋅t    ⎞  -3⋅t⎥\n",
       "⎢3⋅⎝- ℯ    + 1⎠⋅ℯ      ⎝- ℯ    + 3⎠⋅ℯ    ⎥\n",
       "⎢────────────────────  ──────────────────⎥\n",
       "⎣         2                    2         ⎦"
      ]
     },
     "execution_count": 109,
     "metadata": {},
     "output_type": "execute_result"
    }
   ],
   "source": [
    "A = np.array([[0, 1],[-3, -4]])\n",
    "G = s*sp.eye(2) - A #(sI - A)\n",
    "exp_At = sp.inverse_laplace_transform(sp.simplify(G.inv()), s, t) #逆ラプラス変換\n",
    "exp_At"
   ]
  },
  {
   "cell_type": "markdown",
   "metadata": {},
   "source": [
    "# システムの時間応答の求め方\n",
    "## 例題2.2"
   ]
  },
  {
   "cell_type": "code",
   "execution_count": 92,
   "metadata": {},
   "outputs": [],
   "source": [
    "B = np.array([[0],[1]])\n",
    "C = np.eye(2) #状態量を見たいのでy=xにする\n",
    "D = np.zeros([2,1])\n",
    "\n",
    "sys = matlab.ss(A, B, C, D) # 状態空間表現システム　state space?\n",
    "\n",
    "Td = np.arange(0, 10, 0.01) #シミュレーション時間0~1s,0.01s刻み\n",
    "Ud = 1*(Td>0) #入力信号（ステップ入力）\n",
    "\n",
    "X0 = [2, 0] # 初期状態量\n",
    "x, tt, _ = matlab.lsim(sys, Ud, Td, X0) #線形システムシミュレータ"
   ]
  },
  {
   "cell_type": "code",
   "execution_count": 93,
   "metadata": {},
   "outputs": [
    {
     "data": {
      "text/plain": [
       "<matplotlib.axes._subplots.AxesSubplot at 0x7f53ceb8bfd0>"
      ]
     },
     "execution_count": 93,
     "metadata": {},
     "output_type": "execute_result"
    },
    {
     "data": {
      "image/png": "[encoded data removed]",
      "text/plain": [
       "<Figure size 432x288 with 1 Axes>"
      ]
     },
     "metadata": {
      "needs_background": "light"
     },
     "output_type": "display_data"
    }
   ],
   "source": [
    "df = pd.concat((pd.DataFrame(tt),pd.DataFrame(x)),axis=1)\n",
    "df.columns = [\"t\", \"x1\", \"x2\"]\n",
    "df.plot(x=\"t\")"
   ]
  },
  {
   "cell_type": "markdown",
   "metadata": {},
   "source": [
    "# 自由システム応答"
   ]
  },
  {
   "cell_type": "code",
   "execution_count": 101,
   "metadata": {},
   "outputs": [],
   "source": [
    "x, tt = matlab.initial(sys, Td, X0) #制御入力いらん場合はinitial()が使える"
   ]
  },
  {
   "cell_type": "code",
   "execution_count": 102,
   "metadata": {},
   "outputs": [
    {
     "data": {
      "text/plain": [
       "<matplotlib.axes._subplots.AxesSubplot at 0x7f53ce8ac128>"
      ]
     },
     "execution_count": 102,
     "metadata": {},
     "output_type": "execute_result"
    },
    {
     "data": {
      "image/png": "[encoded data removed]",
      "text/plain": [
       "<Figure size 432x288 with 1 Axes>"
      ]
     },
     "metadata": {
      "needs_background": "light"
     },
     "output_type": "display_data"
    }
   ],
   "source": [
    "df_f = pd.concat((pd.DataFrame(tt),pd.DataFrame(x)), axis=1)\n",
    "df_f.columns = [\"t\",\"x1\",\"x2\"]\n",
    "df_f.plot(x = \"t\")"
   ]
  },
  {
   "cell_type": "markdown",
   "metadata": {},
   "source": [
    "# 固有値、固有ベクトルの求め方"
   ]
  },
  {
   "cell_type": "code",
   "execution_count": 90,
   "metadata": {},
   "outputs": [
    {
     "name": "stdout",
     "output_type": "stream",
     "text": [
      "固有値： [-1. -3.]\n",
      "（単位）固有ベクトル： [[ 0.70710678 -0.31622777]\n",
      " [-0.70710678  0.9486833 ]]\n"
     ]
    }
   ],
   "source": [
    "eig_val, eig_vec = np.linalg.eig(A)\n",
    "print(\"固有値：\", eig_val)\n",
    "print(\"（単位）固有ベクトル：\", eig_vec)"
   ]
  },
  {
   "cell_type": "markdown",
   "metadata": {},
   "source": [
    "# 演習\n",
    "## 2.1"
   ]
  },
  {
   "cell_type": "code",
   "execution_count": 113,
   "metadata": {},
   "outputs": [
    {
     "data": {
      "text/latex": [
       "$$\\left[\\begin{matrix}\\frac{\\left(- e^{2 t} + 3\\right) e^{t}}{2} & \\frac{\\left(- e^{2 t} + 1\\right) e^{t}}{2}\\\\\\frac{3 \\left(e^{2 t} - 1\\right) e^{t}}{2} & \\frac{\\left(3 e^{2 t} - 1\\right) e^{t}}{2}\\end{matrix}\\right]$$"
      ],
      "text/plain": [
       "⎡⎛   2⋅t    ⎞  t  ⎛   2⋅t    ⎞  t⎤\n",
       "⎢⎝- ℯ    + 3⎠⋅ℯ   ⎝- ℯ    + 1⎠⋅ℯ ⎥\n",
       "⎢───────────────  ───────────────⎥\n",
       "⎢       2                2       ⎥\n",
       "⎢                                ⎥\n",
       "⎢  ⎛ 2⋅t    ⎞  t  ⎛   2⋅t    ⎞  t⎥\n",
       "⎢3⋅⎝ℯ    - 1⎠⋅ℯ   ⎝3⋅ℯ    - 1⎠⋅ℯ ⎥\n",
       "⎢───────────────  ───────────────⎥\n",
       "⎣       2                2       ⎦"
      ]
     },
     "execution_count": 113,
     "metadata": {},
     "output_type": "execute_result"
    }
   ],
   "source": [
    "in_exp_At = exp_At.inv() #逆行列\n",
    "sp.simplify(in_exp_At)"
   ]
  },
  {
   "cell_type": "code",
   "execution_count": 114,
   "metadata": {},
   "outputs": [
    {
     "data": {
      "text/latex": [
       "$$\\left[\\begin{matrix}\\frac{\\left(- e^{2 t} + 3\\right) e^{t}}{2} & \\frac{\\left(- e^{2 t} + 1\\right) e^{t}}{2}\\\\\\frac{3 \\left(e^{2 t} - 1\\right) e^{t}}{2} & \\frac{\\left(3 e^{2 t} - 1\\right) e^{t}}{2}\\end{matrix}\\right]$$"
      ],
      "text/plain": [
       "⎡⎛   2⋅t    ⎞  t  ⎛   2⋅t    ⎞  t⎤\n",
       "⎢⎝- ℯ    + 3⎠⋅ℯ   ⎝- ℯ    + 1⎠⋅ℯ ⎥\n",
       "⎢───────────────  ───────────────⎥\n",
       "⎢       2                2       ⎥\n",
       "⎢                                ⎥\n",
       "⎢  ⎛ 2⋅t    ⎞  t  ⎛   2⋅t    ⎞  t⎥\n",
       "⎢3⋅⎝ℯ    - 1⎠⋅ℯ   ⎝3⋅ℯ    - 1⎠⋅ℯ ⎥\n",
       "⎢───────────────  ───────────────⎥\n",
       "⎣       2                2       ⎦"
      ]
     },
     "execution_count": 114,
     "metadata": {},
     "output_type": "execute_result"
    }
   ],
   "source": [
    "A = -np.array([[0, 1],[-3, -4]]) #Aにマイナスかけたやつ\n",
    "G = s*sp.eye(2) - A\n",
    "exp_At = sp.inverse_laplace_transform(sp.simplify(G.inv()), s, t)\n",
    "exp_At"
   ]
  },
  {
   "cell_type": "code",
   "execution_count": null,
   "metadata": {},
   "outputs": [],
   "source": []
  }
 ],
 "metadata": {
  "kernelspec": {
   "display_name": "Python 3",
   "language": "python",
   "name": "python3"
  },
  "language_info": {
   "codemirror_mode": {
    "name": "ipython",
    "version": 3
   },
   "file_extension": ".py",
   "mimetype": "text/x-python",
   "name": "python",
   "nbconvert_exporter": "python",
   "pygments_lexer": "ipython3",
   "version": "3.7.0"
  }
 },
 "nbformat": 4,
 "nbformat_minor": 2
}
