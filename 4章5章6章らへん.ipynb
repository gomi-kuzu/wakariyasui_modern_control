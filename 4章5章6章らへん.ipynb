{
 "cells": [
  {
   "cell_type": "code",
   "execution_count": 16,
   "metadata": {},
   "outputs": [],
   "source": [
    "import numpy as np\n",
    "from control import matlab"
   ]
  },
  {
   "cell_type": "code",
   "execution_count": 17,
   "metadata": {},
   "outputs": [],
   "source": [
    "A = np.array([[-3, 4],[-1, 5]])\n",
    "B = np.array([[1],[0]])\n",
    "C = np.array([[0,2]])\n",
    "D = np.array([[0]])\n",
    "Pss = matlab.ss(A, B, C, D)"
   ]
  },
  {
   "cell_type": "markdown",
   "metadata": {},
   "source": [
    "# 可**制御**性判別\n",
    "- 可制御性行列のランクが最大なら可制御"
   ]
  },
  {
   "cell_type": "code",
   "execution_count": 18,
   "metadata": {},
   "outputs": [],
   "source": [
    "Uc = matlab.ctrb(A, B)\n",
    "Rc = np.linalg.matrix_rank(Uc)"
   ]
  },
  {
   "cell_type": "code",
   "execution_count": 19,
   "metadata": {},
   "outputs": [
    {
     "name": "stdout",
     "output_type": "stream",
     "text": [
      "ランク: 2 サイズ: 2\n"
     ]
    }
   ],
   "source": [
    "print(\"ランク:\",Rc,\"サイズ:\",min(Uc.shape))"
   ]
  },
  {
   "cell_type": "markdown",
   "metadata": {},
   "source": [
    "# 可**観測**性判別\n",
    "- 可観測性行列のランクが最大なら可制御"
   ]
  },
  {
   "cell_type": "code",
   "execution_count": 20,
   "metadata": {},
   "outputs": [],
   "source": [
    "Uo = matlab.obsv(A, C)\n",
    "Ro = np.linalg.matrix_rank(Uo)"
   ]
  },
  {
   "cell_type": "code",
   "execution_count": 21,
   "metadata": {},
   "outputs": [
    {
     "name": "stdout",
     "output_type": "stream",
     "text": [
      "ランク: 2 サイズ: 2\n"
     ]
    }
   ],
   "source": [
    "print(\"ランク:\",Ro,\"サイズ:\",min(Uo.shape))"
   ]
  },
  {
   "cell_type": "code",
   "execution_count": null,
   "metadata": {},
   "outputs": [],
   "source": []
  }
 ],
 "metadata": {
  "kernelspec": {
   "display_name": "Python 3",
   "language": "python",
   "name": "python3"
  },
  "language_info": {
   "codemirror_mode": {
    "name": "ipython",
    "version": 3
   },
   "file_extension": ".py",
   "mimetype": "text/x-python",
   "name": "python",
   "nbconvert_exporter": "python",
   "pygments_lexer": "ipython3",
   "version": "3.7.0"
  }
 },
 "nbformat": 4,
 "nbformat_minor": 4
}
